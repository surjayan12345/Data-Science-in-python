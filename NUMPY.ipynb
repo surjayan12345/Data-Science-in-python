{
 "cells": [
  {
   "cell_type": "code",
   "execution_count": 1,
   "id": "98b320d7-0123-4284-914a-da1887c67d8c",
   "metadata": {},
   "outputs": [],
   "source": [
    "import numpy as np"
   ]
  },
  {
   "cell_type": "code",
   "execution_count": 2,
   "id": "ee8b7cee-8685-4d37-b4b6-663b8954b969",
   "metadata": {},
   "outputs": [],
   "source": [
    "from time import process_time"
   ]
  },
  {
   "cell_type": "code",
   "execution_count": 9,
   "id": "1c84b95b-e6db-4ab0-bd7b-54f4fbb5c128",
   "metadata": {},
   "outputs": [
    {
     "name": "stdout",
     "output_type": "stream",
     "text": [
      "4.796875\n"
     ]
    }
   ],
   "source": [
    "python_list = [ i for i in range (100000000)]\n",
    "start_time = process_time()\n",
    "python_list = [ i+5 for i in python_list ]\n",
    "end_time = process_time()\n",
    "print(end_time - start_time)"
   ]
  },
  {
   "cell_type": "code",
   "execution_count": 11,
   "id": "6891efd8-dc33-426d-9470-2248e8f3de3b",
   "metadata": {},
   "outputs": [
    {
     "name": "stdout",
     "output_type": "stream",
     "text": [
      "0.09375\n"
     ]
    }
   ],
   "source": [
    "np_array = np.array( [i for i in range (100000000)])\n",
    "start_time1 = process_time()\n",
    "np_array = np_array + 5\n",
    "end_time1 = process_time()\n",
    "print(end_time1 - start_time1)"
   ]
  },
  {
   "cell_type": "code",
   "execution_count": 12,
   "id": "8871f995-0c7b-485f-8848-68a8af4a2357",
   "metadata": {},
   "outputs": [
    {
     "name": "stdout",
     "output_type": "stream",
     "text": [
      "[1, 2, 3, 4, 5]\n"
     ]
    },
    {
     "data": {
      "text/plain": [
       "list"
      ]
     },
     "execution_count": 12,
     "metadata": {},
     "output_type": "execute_result"
    }
   ],
   "source": [
    "#list\n",
    "list1 = [1,2,3,4,5]\n",
    "print(list1)\n",
    "type(list1)"
   ]
  },
  {
   "cell_type": "code",
   "execution_count": 13,
   "id": "c1943f56-10a0-4dc2-a68a-9f74a20049ba",
   "metadata": {},
   "outputs": [
    {
     "name": "stdout",
     "output_type": "stream",
     "text": [
      "[1 2 3 4 5]\n"
     ]
    },
    {
     "data": {
      "text/plain": [
       "numpy.ndarray"
      ]
     },
     "execution_count": 13,
     "metadata": {},
     "output_type": "execute_result"
    }
   ],
   "source": [
    "np_array = np.array([1,2,3,4,5])\n",
    "print(np_array)\n",
    "type(np_array)"
   ]
  },
  {
   "cell_type": "code",
   "execution_count": 14,
   "id": "e9929034-5c2d-4258-b092-ec127ba7dc85",
   "metadata": {},
   "outputs": [
    {
     "name": "stdout",
     "output_type": "stream",
     "text": [
      "[1 2 3 4]\n"
     ]
    }
   ],
   "source": [
    "#creating a 1 dimension array\n",
    "a = np.array([1,2,3,4])\n",
    "print(a)"
   ]
  },
  {
   "cell_type": "code",
   "execution_count": 15,
   "id": "055e5d0b-43f9-4a2b-9d09-9458cf39aafd",
   "metadata": {},
   "outputs": [
    {
     "data": {
      "text/plain": [
       "(4,)"
      ]
     },
     "execution_count": 15,
     "metadata": {},
     "output_type": "execute_result"
    }
   ],
   "source": [
    "a.shape"
   ]
  },
  {
   "cell_type": "code",
   "execution_count": 16,
   "id": "36ced05d-4b0e-4213-8068-fcac7454bd0a",
   "metadata": {},
   "outputs": [
    {
     "name": "stdout",
     "output_type": "stream",
     "text": [
      "[[1 2 3 4]\n",
      " [5 6 7 8]]\n"
     ]
    }
   ],
   "source": [
    "#creating a 2 dimension array\n",
    "b = np.array([(1,2,3,4),(5,6,7,8)])\n",
    "print(b)"
   ]
  },
  {
   "cell_type": "code",
   "execution_count": 18,
   "id": "910677f7-68cb-46b6-b870-4f3b87f7c9b7",
   "metadata": {},
   "outputs": [
    {
     "data": {
      "text/plain": [
       "(2, 4)"
      ]
     },
     "execution_count": 18,
     "metadata": {},
     "output_type": "execute_result"
    }
   ],
   "source": [
    "b.shape"
   ]
  },
  {
   "cell_type": "code",
   "execution_count": 19,
   "id": "ab7dde3f-861d-48d7-83d9-3d31cf64f408",
   "metadata": {},
   "outputs": [
    {
     "name": "stdout",
     "output_type": "stream",
     "text": [
      "[[1. 2. 3. 4.]\n",
      " [5. 6. 7. 8.]]\n"
     ]
    }
   ],
   "source": [
    "c = np.array([(1,2,3,4),(5,6,7,8)] , dtype=float)\n",
    "print(c)"
   ]
  },
  {
   "cell_type": "code",
   "execution_count": 21,
   "id": "46a79564-897f-46b6-b7f3-f68e01f3915d",
   "metadata": {},
   "outputs": [
    {
     "name": "stdout",
     "output_type": "stream",
     "text": [
      "[[0. 0. 0. 0. 0.]\n",
      " [0. 0. 0. 0. 0.]\n",
      " [0. 0. 0. 0. 0.]\n",
      " [0. 0. 0. 0. 0.]]\n"
     ]
    }
   ],
   "source": [
    "x = np.zeros((4,5))\n",
    "print(x)"
   ]
  },
  {
   "cell_type": "code",
   "execution_count": 22,
   "id": "82aa65e7-5c08-4e16-86f8-ad39ace89d2d",
   "metadata": {},
   "outputs": [
    {
     "name": "stdout",
     "output_type": "stream",
     "text": [
      "[[1. 1. 1.]\n",
      " [1. 1. 1.]\n",
      " [1. 1. 1.]]\n"
     ]
    }
   ],
   "source": [
    "y = np.ones((3,3))\n",
    "print(y)"
   ]
  },
  {
   "cell_type": "code",
   "execution_count": 25,
   "id": "9f35720c-dc98-488a-957a-6a7b78a23234",
   "metadata": {},
   "outputs": [
    {
     "name": "stdout",
     "output_type": "stream",
     "text": [
      "[[7 7 7]\n",
      " [7 7 7]\n",
      " [7 7 7]\n",
      " [7 7 7]\n",
      " [7 7 7]\n",
      " [7 7 7]]\n"
     ]
    }
   ],
   "source": [
    "#array of a particular value\n",
    "z = np.full((6,3),7)\n",
    "print(z)"
   ]
  },
  {
   "cell_type": "code",
   "execution_count": 26,
   "id": "43baa77d-76ec-468e-adfc-44f6b6218ac2",
   "metadata": {},
   "outputs": [
    {
     "name": "stdout",
     "output_type": "stream",
     "text": [
      "[[1. 0. 0. 0. 0. 0. 0.]\n",
      " [0. 1. 0. 0. 0. 0. 0.]\n",
      " [0. 0. 1. 0. 0. 0. 0.]\n",
      " [0. 0. 0. 1. 0. 0. 0.]\n",
      " [0. 0. 0. 0. 1. 0. 0.]\n",
      " [0. 0. 0. 0. 0. 1. 0.]\n",
      " [0. 0. 0. 0. 0. 0. 1.]]\n"
     ]
    }
   ],
   "source": [
    "#identity matrix\n",
    "\n",
    "q=np.eye(7)\n",
    "print(q)"
   ]
  },
  {
   "cell_type": "code",
   "execution_count": 27,
   "id": "8d762b18-0678-4fbe-aca1-f3d156a137e0",
   "metadata": {},
   "outputs": [
    {
     "name": "stdout",
     "output_type": "stream",
     "text": [
      "[[0.58810867 0.95412755 0.28488872 0.29725026]\n",
      " [0.48144181 0.7368874  0.26423206 0.48283122]\n",
      " [0.73232536 0.10562094 0.80942689 0.94476834]]\n"
     ]
    }
   ],
   "source": [
    "t=np.random.random((3,4))\n",
    "print(t)"
   ]
  },
  {
   "cell_type": "code",
   "execution_count": 28,
   "id": "28d9e8bc-ad89-409b-b3a1-d0c2295c5466",
   "metadata": {},
   "outputs": [
    {
     "name": "stdout",
     "output_type": "stream",
     "text": [
      "[[73 71 77 13 94 28]\n",
      " [27 95 14 91 73 99]]\n"
     ]
    }
   ],
   "source": [
    "g= np.random.randint(10,100,(2,6))\n",
    "print(g)"
   ]
  },
  {
   "cell_type": "code",
   "execution_count": 30,
   "id": "937bc115-23dc-4e1d-9f0c-d1e3331e22bd",
   "metadata": {},
   "outputs": [
    {
     "name": "stdout",
     "output_type": "stream",
     "text": [
      "[10. 16. 22. 28. 34. 40.]\n"
     ]
    }
   ],
   "source": [
    "#evenly spaced value - specifying the number of values required\n",
    "h=np.linspace(10,40,6)\n",
    "print(h)"
   ]
  },
  {
   "cell_type": "code",
   "execution_count": 32,
   "id": "3252c512-8c8d-4ff4-a5c1-d3c521efb7fe",
   "metadata": {},
   "outputs": [
    {
     "name": "stdout",
     "output_type": "stream",
     "text": [
      "[10 16 22 28 34]\n"
     ]
    }
   ],
   "source": [
    "#evenly spaced value -  specifying the step\n",
    "i=np.arange(10,40,6)\n",
    "print(i)"
   ]
  },
  {
   "cell_type": "code",
   "execution_count": 33,
   "id": "d0515c76-7327-4b48-b9c9-7cd419a11d14",
   "metadata": {},
   "outputs": [
    {
     "name": "stdout",
     "output_type": "stream",
     "text": [
      "[10 20 30 56 77]\n"
     ]
    }
   ],
   "source": [
    "#convert a list to numpy array\n",
    "list2=[10,20,30,56,77]\n",
    "np_array=np.asarray(list2)\n",
    "print(np_array)"
   ]
  },
  {
   "cell_type": "code",
   "execution_count": 34,
   "id": "b29329b5-85a4-4225-b34b-5e1fb7b136c7",
   "metadata": {},
   "outputs": [
    {
     "data": {
      "text/plain": [
       "numpy.ndarray"
      ]
     },
     "execution_count": 34,
     "metadata": {},
     "output_type": "execute_result"
    }
   ],
   "source": [
    "type(np_array)"
   ]
  },
  {
   "cell_type": "markdown",
   "id": "df26cf1d-50c9-4486-b6ce-d68c0246c97a",
   "metadata": {},
   "source": [
    "ANALYSING a NUMPY ARRAY"
   ]
  },
  {
   "cell_type": "code",
   "execution_count": 35,
   "id": "945a8c98-34b9-41ba-b7a0-a6f3836320dc",
   "metadata": {},
   "outputs": [
    {
     "name": "stdout",
     "output_type": "stream",
     "text": [
      "[[77 41 49 41 79]\n",
      " [98 32 55 90 38]\n",
      " [98 68 74 31 93]\n",
      " [87 89 85 68 64]\n",
      " [31 31 77 29 20]]\n"
     ]
    }
   ],
   "source": [
    "k = np.random.randint(20,99,(5,5))\n",
    "print(k)"
   ]
  },
  {
   "cell_type": "code",
   "execution_count": 37,
   "id": "d80cd2e2-c7dc-4c5e-85f7-91c48cb7221c",
   "metadata": {},
   "outputs": [
    {
     "name": "stdout",
     "output_type": "stream",
     "text": [
      "(5, 5)\n"
     ]
    }
   ],
   "source": [
    "print(k.shape)"
   ]
  },
  {
   "cell_type": "code",
   "execution_count": 38,
   "id": "82c963f3-07f3-479b-a335-9910fa961322",
   "metadata": {},
   "outputs": [
    {
     "name": "stdout",
     "output_type": "stream",
     "text": [
      "2\n"
     ]
    }
   ],
   "source": [
    "print(k.ndim)"
   ]
  },
  {
   "cell_type": "code",
   "execution_count": 40,
   "id": "3cc2cf3e-87e2-49f9-a72d-6bbe3eca7c79",
   "metadata": {},
   "outputs": [
    {
     "name": "stdout",
     "output_type": "stream",
     "text": [
      "25\n"
     ]
    }
   ],
   "source": [
    "print(k.size) #number of elements in an array"
   ]
  },
  {
   "cell_type": "code",
   "execution_count": 41,
   "id": "25fc3881-b985-4e76-828d-2ad81904a20e",
   "metadata": {},
   "outputs": [
    {
     "name": "stdout",
     "output_type": "stream",
     "text": [
      "int32\n"
     ]
    }
   ],
   "source": [
    "print(k.dtype)"
   ]
  },
  {
   "cell_type": "markdown",
   "id": "08b385c0-e1ac-4c51-ab04-df0dc42251c0",
   "metadata": {},
   "source": [
    "Mathematical Operations on a Numpy Array"
   ]
  },
  {
   "cell_type": "code",
   "execution_count": 55,
   "id": "f42892e9-d4b9-43e6-99e7-1f74fc72914d",
   "metadata": {},
   "outputs": [
    {
     "name": "stdout",
     "output_type": "stream",
     "text": [
      "[1, 2, 3, 4, 5, 3, 4, 5, 6, 7]\n",
      "[ 4  6  8 10 12]\n"
     ]
    }
   ],
   "source": [
    "list1=[1,2,3,4,5]\n",
    "list2=[3,4,5,6,7]\n",
    "\n",
    "print(list1+list2) #it just concatinate\n",
    "print(np.add(list1,list2))"
   ]
  },
  {
   "cell_type": "code",
   "execution_count": 44,
   "id": "33edb3be-0987-43a5-bf05-b0d0a19e0073",
   "metadata": {},
   "outputs": [],
   "source": [
    "a = np.random.randint(0,10, (3,3))\n",
    "\n",
    "b = np.random.randint(10,20 , (3,3))\n",
    "                      "
   ]
  },
  {
   "cell_type": "code",
   "execution_count": 45,
   "id": "7d0729ce-c509-4f7c-b1ed-0c574295c49c",
   "metadata": {},
   "outputs": [
    {
     "name": "stdout",
     "output_type": "stream",
     "text": [
      "[[6 2 3]\n",
      " [6 3 3]\n",
      " [5 1 1]]\n"
     ]
    }
   ],
   "source": [
    "print(a)"
   ]
  },
  {
   "cell_type": "code",
   "execution_count": 46,
   "id": "e9c5c8ea-40fa-459e-9fad-5f3a8f7df77c",
   "metadata": {},
   "outputs": [
    {
     "name": "stdout",
     "output_type": "stream",
     "text": [
      "[[12 11 17]\n",
      " [14 15 11]\n",
      " [15 16 13]]\n"
     ]
    }
   ],
   "source": [
    "print(b)"
   ]
  },
  {
   "cell_type": "code",
   "execution_count": 47,
   "id": "65543b25-a472-4836-83db-165b8b7c7ccd",
   "metadata": {},
   "outputs": [
    {
     "name": "stdout",
     "output_type": "stream",
     "text": [
      "[[18 13 20]\n",
      " [20 18 14]\n",
      " [20 17 14]]\n"
     ]
    }
   ],
   "source": [
    "print(a+b)"
   ]
  },
  {
   "cell_type": "code",
   "execution_count": 49,
   "id": "ce9c3c1e-84c5-46a2-8650-6cb55bb03459",
   "metadata": {},
   "outputs": [
    {
     "name": "stdout",
     "output_type": "stream",
     "text": [
      "[[ -6  -9 -14]\n",
      " [ -8 -12  -8]\n",
      " [-10 -15 -12]]\n"
     ]
    }
   ],
   "source": [
    "print(a-b)"
   ]
  },
  {
   "cell_type": "code",
   "execution_count": 50,
   "id": "fd1547f8-da0c-42d7-a0ef-c821f1acb55d",
   "metadata": {},
   "outputs": [
    {
     "name": "stdout",
     "output_type": "stream",
     "text": [
      "[[72 22 51]\n",
      " [84 45 33]\n",
      " [75 16 13]]\n"
     ]
    }
   ],
   "source": [
    "print(a*b)"
   ]
  },
  {
   "cell_type": "code",
   "execution_count": 51,
   "id": "ca05608f-89a2-4d7a-9912-5f927645e7b0",
   "metadata": {},
   "outputs": [
    {
     "name": "stdout",
     "output_type": "stream",
     "text": [
      "[[0.5        0.18181818 0.17647059]\n",
      " [0.42857143 0.2        0.27272727]\n",
      " [0.33333333 0.0625     0.07692308]]\n"
     ]
    }
   ],
   "source": [
    "print(a/b)"
   ]
  },
  {
   "cell_type": "markdown",
   "id": "529303a0-b3bb-4b2e-be59-0b463e2a6041",
   "metadata": {},
   "source": [
    "ARRAY MANIPUALTION"
   ]
  },
  {
   "cell_type": "code",
   "execution_count": 57,
   "id": "be29e0fe-deef-43d2-9697-2742c7ac65a4",
   "metadata": {},
   "outputs": [
    {
     "name": "stdout",
     "output_type": "stream",
     "text": [
      "[[27  4 22]\n",
      " [19 27  4]\n",
      " [28  3 22]\n",
      " [ 5 21 10]]\n",
      "(4, 3)\n"
     ]
    }
   ],
   "source": [
    "array1 = np.random.randint(2,30,(4,3))\n",
    "print(array1)\n",
    "print(array1.shape)"
   ]
  },
  {
   "cell_type": "code",
   "execution_count": 61,
   "id": "64ef9e99-aef7-4171-9b8c-93a093259c35",
   "metadata": {},
   "outputs": [
    {
     "name": "stdout",
     "output_type": "stream",
     "text": [
      "[[27 19 28  5]\n",
      " [ 4 27  3 21]\n",
      " [22  4 22 10]]\n",
      "(3, 4)\n"
     ]
    }
   ],
   "source": [
    "transpose_array = np.transpose(array1) #transpose\n",
    "print(transpose_array)\n",
    "print(transpose_array.shape)"
   ]
  },
  {
   "cell_type": "code",
   "execution_count": 62,
   "id": "d1bb8094-dfa1-45fb-af76-0632a099bfdb",
   "metadata": {},
   "outputs": [
    {
     "name": "stdout",
     "output_type": "stream",
     "text": [
      "[[27  4 22]\n",
      " [19 27  4]\n",
      " [28  3 22]\n",
      " [ 5 21 10]]\n",
      "(4, 3)\n"
     ]
    }
   ],
   "source": [
    "array2 = transpose_array.T\n",
    "print(array2)\n",
    "print(array2.shape)"
   ]
  },
  {
   "cell_type": "markdown",
   "id": "5711869f-1752-46eb-8616-3c57d19b0a8d",
   "metadata": {},
   "source": [
    "Reshaping the ARRAY"
   ]
  },
  {
   "cell_type": "code",
   "execution_count": 64,
   "id": "35a5467e-d8f5-4424-ac13-061df0f1ade3",
   "metadata": {},
   "outputs": [
    {
     "name": "stdout",
     "output_type": "stream",
     "text": [
      "[[2 5 4]\n",
      " [2 8 6]]\n",
      "(2, 3)\n"
     ]
    }
   ],
   "source": [
    "k=np.random.randint(0,10,(2,3))\n",
    "print(k)\n",
    "print(k.shape)"
   ]
  },
  {
   "cell_type": "code",
   "execution_count": 66,
   "id": "dadeb524-0a02-4c33-ba6d-1474fa22d784",
   "metadata": {},
   "outputs": [
    {
     "name": "stdout",
     "output_type": "stream",
     "text": [
      "[[2 5]\n",
      " [4 2]\n",
      " [8 6]]\n",
      "(3, 2)\n"
     ]
    }
   ],
   "source": [
    "j=k.reshape(3,2)\n",
    "print(j)\n",
    "print(j.shape)"
   ]
  },
  {
   "cell_type": "code",
   "execution_count": null,
   "id": "40faf502-82f2-43b0-aac7-8154a1c6bfa2",
   "metadata": {},
   "outputs": [],
   "source": [
    "j=k.reshape(4,2)\n",
    "print(j)\n",
    "print(j.shape"
   ]
  }
 ],
 "metadata": {
  "kernelspec": {
   "display_name": "Python 3 (ipykernel)",
   "language": "python",
   "name": "python3"
  },
  "language_info": {
   "codemirror_mode": {
    "name": "ipython",
    "version": 3
   },
   "file_extension": ".py",
   "mimetype": "text/x-python",
   "name": "python",
   "nbconvert_exporter": "python",
   "pygments_lexer": "ipython3",
   "version": "3.11.7"
  }
 },
 "nbformat": 4,
 "nbformat_minor": 5
}
