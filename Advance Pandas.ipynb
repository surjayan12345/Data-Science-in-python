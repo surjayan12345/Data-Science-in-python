{
 "cells": [
  {
   "cell_type": "markdown",
   "id": "120fb945-3bbe-4a7a-80c6-262a45e9e74d",
   "metadata": {},
   "source": [
    "### Advance Pandas"
   ]
  },
  {
   "cell_type": "code",
   "execution_count": 3,
   "id": "9beb3fb3-3485-4850-a771-c5d589ef21b8",
   "metadata": {},
   "outputs": [
    {
     "name": "stdout",
     "output_type": "stream",
     "text": [
      "Requirement already satisfied: pandas in c:\\users\\surjayandutta\\anaconda3\\lib\\site-packages (2.2.2)\n",
      "Requirement already satisfied: numpy>=1.26.0 in c:\\users\\surjayandutta\\anaconda3\\lib\\site-packages (from pandas) (1.26.4)\n",
      "Requirement already satisfied: python-dateutil>=2.8.2 in c:\\users\\surjayandutta\\anaconda3\\lib\\site-packages (from pandas) (2.9.0.post0)\n",
      "Requirement already satisfied: pytz>=2020.1 in c:\\users\\surjayandutta\\anaconda3\\lib\\site-packages (from pandas) (2024.1)\n",
      "Requirement already satisfied: tzdata>=2022.7 in c:\\users\\surjayandutta\\anaconda3\\lib\\site-packages (from pandas) (2023.3)\n",
      "Requirement already satisfied: six>=1.5 in c:\\users\\surjayandutta\\anaconda3\\lib\\site-packages (from python-dateutil>=2.8.2->pandas) (1.16.0)\n"
     ]
    }
   ],
   "source": [
    "!pip install pandas"
   ]
  },
  {
   "cell_type": "code",
   "execution_count": 4,
   "id": "dd9a2368-b50f-4f27-b4c7-a5afd473f496",
   "metadata": {},
   "outputs": [],
   "source": [
    "import pandas as pd"
   ]
  },
  {
   "cell_type": "markdown",
   "id": "4b796064-8812-46b4-bf33-c4673bbe427e",
   "metadata": {},
   "source": [
    "### a. Creating a Series"
   ]
  },
  {
   "cell_type": "code",
   "execution_count": 6,
   "id": "ef61961c-1b2a-4997-95b6-e642a0d6e09a",
   "metadata": {},
   "outputs": [],
   "source": [
    "s = pd.Series([10,20,30,40,50])"
   ]
  },
  {
   "cell_type": "code",
   "execution_count": 10,
   "id": "52b9bdaa-199e-447f-a447-cb68db1a8bbc",
   "metadata": {},
   "outputs": [
    {
     "name": "stdout",
     "output_type": "stream",
     "text": [
      "0    10\n",
      "1    20\n",
      "2    30\n",
      "3    40\n",
      "4    50\n",
      "dtype: int64\n"
     ]
    }
   ],
   "source": [
    "print(s)"
   ]
  },
  {
   "cell_type": "markdown",
   "id": "a721090f-9d3f-4f93-bd17-02ad0ac27322",
   "metadata": {},
   "source": [
    "### b. Creating a Dataframe"
   ]
  },
  {
   "cell_type": "code",
   "execution_count": 13,
   "id": "b29b7284-84b1-4b65-8023-0695c57a382d",
   "metadata": {},
   "outputs": [],
   "source": [
    "data = {\n",
    "    'Name' : ['John' , 'Anna' , 'Dip' , 'Rahul'],\n",
    "    'Age' : [12,24 ,22 ,19],\n",
    "    'City': ['Haldia', 'Paris' , 'Berlin' , 'London']\n",
    "}"
   ]
  },
  {
   "cell_type": "code",
   "execution_count": 15,
   "id": "32f582f4-727e-428c-96aa-e88f3f88cb25",
   "metadata": {},
   "outputs": [],
   "source": [
    "df=pd.DataFrame(data)"
   ]
  },
  {
   "cell_type": "code",
   "execution_count": 17,
   "id": "87fd4ef0-1e27-499e-9613-9100cc00e63c",
   "metadata": {},
   "outputs": [
    {
     "name": "stdout",
     "output_type": "stream",
     "text": [
      "    Name  Age    City\n",
      "0   John   12  Haldia\n",
      "1   Anna   24   Paris\n",
      "2    Dip   22  Berlin\n",
      "3  Rahul   19  London\n"
     ]
    }
   ],
   "source": [
    "print(df)"
   ]
  },
  {
   "cell_type": "code",
   "execution_count": 19,
   "id": "419fae9f-8608-4d81-8fc4-76c9bf0e0c1b",
   "metadata": {},
   "outputs": [
    {
     "data": {
      "text/html": [
       "<div>\n",
       "<style scoped>\n",
       "    .dataframe tbody tr th:only-of-type {\n",
       "        vertical-align: middle;\n",
       "    }\n",
       "\n",
       "    .dataframe tbody tr th {\n",
       "        vertical-align: top;\n",
       "    }\n",
       "\n",
       "    .dataframe thead th {\n",
       "        text-align: right;\n",
       "    }\n",
       "</style>\n",
       "<table border=\"1\" class=\"dataframe\">\n",
       "  <thead>\n",
       "    <tr style=\"text-align: right;\">\n",
       "      <th></th>\n",
       "      <th>Name</th>\n",
       "      <th>Age</th>\n",
       "      <th>City</th>\n",
       "    </tr>\n",
       "  </thead>\n",
       "  <tbody>\n",
       "    <tr>\n",
       "      <th>0</th>\n",
       "      <td>John</td>\n",
       "      <td>12</td>\n",
       "      <td>Haldia</td>\n",
       "    </tr>\n",
       "    <tr>\n",
       "      <th>1</th>\n",
       "      <td>Anna</td>\n",
       "      <td>24</td>\n",
       "      <td>Paris</td>\n",
       "    </tr>\n",
       "    <tr>\n",
       "      <th>2</th>\n",
       "      <td>Dip</td>\n",
       "      <td>22</td>\n",
       "      <td>Berlin</td>\n",
       "    </tr>\n",
       "    <tr>\n",
       "      <th>3</th>\n",
       "      <td>Rahul</td>\n",
       "      <td>19</td>\n",
       "      <td>London</td>\n",
       "    </tr>\n",
       "  </tbody>\n",
       "</table>\n",
       "</div>"
      ],
      "text/plain": [
       "    Name  Age    City\n",
       "0   John   12  Haldia\n",
       "1   Anna   24   Paris\n",
       "2    Dip   22  Berlin\n",
       "3  Rahul   19  London"
      ]
     },
     "execution_count": 19,
     "metadata": {},
     "output_type": "execute_result"
    }
   ],
   "source": [
    "df"
   ]
  },
  {
   "cell_type": "code",
   "execution_count": 21,
   "id": "67725488-c56b-4cef-a24c-8d003211ebc9",
   "metadata": {},
   "outputs": [
    {
     "name": "stdout",
     "output_type": "stream",
     "text": [
      "Name      John\n",
      "Age         12\n",
      "City    Haldia\n",
      "Name: 0, dtype: object\n"
     ]
    }
   ],
   "source": [
    "# Select a row by index\n",
    "print(df.iloc[0])"
   ]
  },
  {
   "cell_type": "code",
   "execution_count": 23,
   "id": "d3ec9b9d-2808-4d72-9292-26588034c573",
   "metadata": {},
   "outputs": [
    {
     "name": "stdout",
     "output_type": "stream",
     "text": [
      "Name     Anna\n",
      "Age        24\n",
      "City    Paris\n",
      "Name: 1, dtype: object\n"
     ]
    }
   ],
   "source": [
    "# Select a row by label\n",
    "print(df.loc[1])"
   ]
  },
  {
   "cell_type": "code",
   "execution_count": 25,
   "id": "8b3c0394-c516-4ff2-bb3c-665c56b82eea",
   "metadata": {},
   "outputs": [
    {
     "name": "stdout",
     "output_type": "stream",
     "text": [
      "   Name  Age    City\n",
      "1  Anna   24   Paris\n",
      "2   Dip   22  Berlin\n"
     ]
    }
   ],
   "source": [
    "\n",
    "# Select multiple rows\n",
    "print(df.iloc[1:3])"
   ]
  },
  {
   "cell_type": "code",
   "execution_count": 27,
   "id": "59136320-d058-4453-bff5-f4401e6d31c4",
   "metadata": {},
   "outputs": [
    {
     "name": "stdout",
     "output_type": "stream",
     "text": [
      "   Name  Age    City\n",
      "1  Anna   24   Paris\n",
      "2   Dip   22  Berlin\n"
     ]
    }
   ],
   "source": [
    "# Filter rows where Age is greater than 30\n",
    "print(df[df['Age'] > 20])\n"
   ]
  },
  {
   "cell_type": "code",
   "execution_count": 29,
   "id": "1a24491b-2395-4ea8-87a5-96011f0bb605",
   "metadata": {},
   "outputs": [
    {
     "name": "stdout",
     "output_type": "stream",
     "text": [
      "    Name  Age    City  Country\n",
      "0   John   12  Haldia      USA\n",
      "1   Anna   24   Paris   France\n",
      "2    Dip   22  Berlin  Germany\n",
      "3  Rahul   19  London       UK\n"
     ]
    }
   ],
   "source": [
    "# Adding a new column 'Country'\n",
    "df['Country'] = ['USA', 'France', 'Germany', 'UK']\n",
    "print(df)"
   ]
  },
  {
   "cell_type": "code",
   "execution_count": 31,
   "id": "8b9f42f0-30b6-467b-845e-248353981319",
   "metadata": {},
   "outputs": [
    {
     "name": "stdout",
     "output_type": "stream",
     "text": [
      "    Name  Age    City\n",
      "0   John   12  Haldia\n",
      "1   Anna   24   Paris\n",
      "2    Dip   22  Berlin\n",
      "3  Rahul   19  London\n"
     ]
    }
   ],
   "source": [
    "# Drop a column\n",
    "df = df.drop(columns=['Country'])\n",
    "print(df)"
   ]
  },
  {
   "cell_type": "code",
   "execution_count": 33,
   "id": "0eb24ece-5e72-444b-8b82-aeed022984cb",
   "metadata": {},
   "outputs": [
    {
     "name": "stdout",
     "output_type": "stream",
     "text": [
      "    Name  Age    City\n",
      "0   John   12  Haldia\n",
      "2    Dip   22  Berlin\n",
      "3  Rahul   19  London\n"
     ]
    }
   ],
   "source": [
    "# Drop a row by index\n",
    "df = df.drop(index=1)\n",
    "print(df)"
   ]
  },
  {
   "cell_type": "code",
   "execution_count": 35,
   "id": "509078e7-e874-46dd-b6bf-cd939cd666f1",
   "metadata": {},
   "outputs": [
    {
     "name": "stdout",
     "output_type": "stream",
     "text": [
      "             Age\n",
      "count   3.000000\n",
      "mean   17.666667\n",
      "std     5.131601\n",
      "min    12.000000\n",
      "25%    15.500000\n",
      "50%    19.000000\n",
      "75%    20.500000\n",
      "max    22.000000\n"
     ]
    }
   ],
   "source": [
    "# Summary statistics\n",
    "print(df.describe())"
   ]
  },
  {
   "cell_type": "code",
   "execution_count": 37,
   "id": "4023ad6c-ceaa-45e9-958f-dea9224f5c5f",
   "metadata": {},
   "outputs": [
    {
     "name": "stdout",
     "output_type": "stream",
     "text": [
      "17.666666666666668\n"
     ]
    }
   ],
   "source": [
    "# Mean of a column\n",
    "print(df['Age'].mean())"
   ]
  },
  {
   "cell_type": "code",
   "execution_count": 39,
   "id": "d91970a1-5d68-4a46-8d04-c3cce8a25fe1",
   "metadata": {},
   "outputs": [
    {
     "name": "stdout",
     "output_type": "stream",
     "text": [
      "City\n",
      "Haldia    1\n",
      "Berlin    1\n",
      "London    1\n",
      "Name: count, dtype: int64\n"
     ]
    }
   ],
   "source": [
    "# Count of unique values in a column\n",
    "print(df['City'].value_counts())"
   ]
  },
  {
   "cell_type": "code",
   "execution_count": 41,
   "id": "ad1fc090-eb64-4058-9a7b-a68000d6c303",
   "metadata": {},
   "outputs": [
    {
     "name": "stdout",
     "output_type": "stream",
     "text": [
      "    Name    Age   City\n",
      "0  False  False  False\n",
      "2  False  False  False\n",
      "3  False  False  False\n"
     ]
    }
   ],
   "source": [
    "# Check for missing data\n",
    "print(df.isnull())"
   ]
  },
  {
   "cell_type": "code",
   "execution_count": 43,
   "id": "de4cb596-0a92-4f3e-ad4c-c732331348b5",
   "metadata": {},
   "outputs": [
    {
     "name": "stdout",
     "output_type": "stream",
     "text": [
      "Name    0\n",
      "Age     0\n",
      "City    0\n",
      "dtype: int64\n"
     ]
    }
   ],
   "source": [
    "# Count of missing values\n",
    "print(df.isnull().sum())"
   ]
  },
  {
   "cell_type": "code",
   "execution_count": 45,
   "id": "cdb65ee7-095c-48c7-a079-0a19eb415c8e",
   "metadata": {},
   "outputs": [],
   "source": [
    "# Drop rows with missing data\n",
    "df.dropna(inplace=True)"
   ]
  },
  {
   "cell_type": "raw",
   "id": "cf33fcd9-13db-400d-ba69-368f6ea42b5b",
   "metadata": {},
   "source": [
    "Group By"
   ]
  },
  {
   "cell_type": "code",
   "execution_count": 47,
   "id": "fe62f103-745d-4d3b-8c4a-ec274ee5357c",
   "metadata": {},
   "outputs": [],
   "source": [
    "grouped = df.groupby('City')"
   ]
  },
  {
   "cell_type": "code",
   "execution_count": 49,
   "id": "d649cfa4-5693-4d51-8720-0c77c9aabdfc",
   "metadata": {},
   "outputs": [
    {
     "name": "stdout",
     "output_type": "stream",
     "text": [
      "<pandas.core.groupby.generic.DataFrameGroupBy object at 0x0000014F86916150>\n"
     ]
    }
   ],
   "source": [
    "print(grouped)"
   ]
  },
  {
   "cell_type": "code",
   "execution_count": 51,
   "id": "e131c641-e81b-45c2-ad9f-eeeefd52484c",
   "metadata": {},
   "outputs": [],
   "source": [
    "# Merging two DataFrames on a key column\n",
    "df1 = pd.DataFrame({'key': ['A', 'B', 'C'], 'value': [1, 2, 3]})\n",
    "df2 = pd.DataFrame({'key': ['A', 'B', 'D'], 'value': [4, 5, 6]})\n",
    "\n",
    "merged = pd.merge(df1, df2, on='key', how='inner')"
   ]
  },
  {
   "cell_type": "code",
   "execution_count": 53,
   "id": "4adf03b9-c7c2-4b65-a629-9f679e745e90",
   "metadata": {},
   "outputs": [
    {
     "data": {
      "text/html": [
       "<div>\n",
       "<style scoped>\n",
       "    .dataframe tbody tr th:only-of-type {\n",
       "        vertical-align: middle;\n",
       "    }\n",
       "\n",
       "    .dataframe tbody tr th {\n",
       "        vertical-align: top;\n",
       "    }\n",
       "\n",
       "    .dataframe thead th {\n",
       "        text-align: right;\n",
       "    }\n",
       "</style>\n",
       "<table border=\"1\" class=\"dataframe\">\n",
       "  <thead>\n",
       "    <tr style=\"text-align: right;\">\n",
       "      <th></th>\n",
       "      <th>key</th>\n",
       "      <th>value_x</th>\n",
       "      <th>value_y</th>\n",
       "    </tr>\n",
       "  </thead>\n",
       "  <tbody>\n",
       "    <tr>\n",
       "      <th>0</th>\n",
       "      <td>A</td>\n",
       "      <td>1</td>\n",
       "      <td>4</td>\n",
       "    </tr>\n",
       "    <tr>\n",
       "      <th>1</th>\n",
       "      <td>B</td>\n",
       "      <td>2</td>\n",
       "      <td>5</td>\n",
       "    </tr>\n",
       "  </tbody>\n",
       "</table>\n",
       "</div>"
      ],
      "text/plain": [
       "  key  value_x  value_y\n",
       "0   A        1        4\n",
       "1   B        2        5"
      ]
     },
     "execution_count": 53,
     "metadata": {},
     "output_type": "execute_result"
    }
   ],
   "source": [
    "merged"
   ]
  },
  {
   "cell_type": "code",
   "execution_count": 55,
   "id": "e5240da9-9c9a-47cc-9bf8-ee40a03e8822",
   "metadata": {},
   "outputs": [
    {
     "name": "stdout",
     "output_type": "stream",
     "text": [
      "  key  value_x  value_y\n",
      "0   A        1        4\n",
      "1   B        2        5\n"
     ]
    }
   ],
   "source": [
    "print(merged)"
   ]
  },
  {
   "cell_type": "raw",
   "id": "4fe42d75-657f-4b81-a46a-634d4989af75",
   "metadata": {},
   "source": [
    "a. Creating a Pivot Table\n",
    "    A pivot table lets you group data by multiple dimensions, applying aggregate functions   like sum, mean, or count."
   ]
  },
  {
   "cell_type": "code",
   "execution_count": 57,
   "id": "5e8f7080-93d5-4bd2-b74c-53899131bd21",
   "metadata": {},
   "outputs": [],
   "source": [
    "data = {\n",
    "    'Product': ['A', 'B', 'C', 'A', 'B', 'C', 'A', 'B', 'C'],\n",
    "    'Sales': [100, 150, 200, 110, 160, 210, 120, 170, 220],\n",
    "    'Region': ['East', 'East', 'East', 'West', 'West', 'West', 'North', 'North', 'North']\n",
    "}"
   ]
  },
  {
   "cell_type": "code",
   "execution_count": 59,
   "id": "75e65f65-d58c-4ed5-a5cf-f3f658bf036c",
   "metadata": {},
   "outputs": [],
   "source": [
    "df = pd.DataFrame(data)"
   ]
  },
  {
   "cell_type": "code",
   "execution_count": 61,
   "id": "3205ef9f-c25c-44dd-a531-50a4a70d3bf0",
   "metadata": {},
   "outputs": [],
   "source": [
    "# Create a pivot table\n",
    "pivot_table = df.pivot_table(values='Sales', index='Region', columns='Product', aggfunc='sum')"
   ]
  },
  {
   "cell_type": "code",
   "execution_count": 63,
   "id": "1c519472-7b3a-4bb8-bc7f-829f7a7305be",
   "metadata": {},
   "outputs": [
    {
     "name": "stdout",
     "output_type": "stream",
     "text": [
      "Product    A    B    C\n",
      "Region                \n",
      "East     100  150  200\n",
      "North    120  170  220\n",
      "West     110  160  210\n"
     ]
    }
   ],
   "source": [
    "print(pivot_table)"
   ]
  },
  {
   "cell_type": "code",
   "execution_count": 65,
   "id": "e64eae63-6342-4fe1-b067-970839f9f03a",
   "metadata": {},
   "outputs": [
    {
     "data": {
      "text/html": [
       "<div>\n",
       "<style scoped>\n",
       "    .dataframe tbody tr th:only-of-type {\n",
       "        vertical-align: middle;\n",
       "    }\n",
       "\n",
       "    .dataframe tbody tr th {\n",
       "        vertical-align: top;\n",
       "    }\n",
       "\n",
       "    .dataframe thead th {\n",
       "        text-align: right;\n",
       "    }\n",
       "</style>\n",
       "<table border=\"1\" class=\"dataframe\">\n",
       "  <thead>\n",
       "    <tr style=\"text-align: right;\">\n",
       "      <th>Product</th>\n",
       "      <th>A</th>\n",
       "      <th>B</th>\n",
       "      <th>C</th>\n",
       "    </tr>\n",
       "    <tr>\n",
       "      <th>Region</th>\n",
       "      <th></th>\n",
       "      <th></th>\n",
       "      <th></th>\n",
       "    </tr>\n",
       "  </thead>\n",
       "  <tbody>\n",
       "    <tr>\n",
       "      <th>East</th>\n",
       "      <td>100</td>\n",
       "      <td>150</td>\n",
       "      <td>200</td>\n",
       "    </tr>\n",
       "    <tr>\n",
       "      <th>North</th>\n",
       "      <td>120</td>\n",
       "      <td>170</td>\n",
       "      <td>220</td>\n",
       "    </tr>\n",
       "    <tr>\n",
       "      <th>West</th>\n",
       "      <td>110</td>\n",
       "      <td>160</td>\n",
       "      <td>210</td>\n",
       "    </tr>\n",
       "  </tbody>\n",
       "</table>\n",
       "</div>"
      ],
      "text/plain": [
       "Product    A    B    C\n",
       "Region                \n",
       "East     100  150  200\n",
       "North    120  170  220\n",
       "West     110  160  210"
      ]
     },
     "execution_count": 65,
     "metadata": {},
     "output_type": "execute_result"
    }
   ],
   "source": [
    "pivot_table"
   ]
  },
  {
   "cell_type": "code",
   "execution_count": 67,
   "id": "0c8749f8-a66f-48bc-aa42-c7a8a4ab2bb8",
   "metadata": {},
   "outputs": [
    {
     "name": "stdout",
     "output_type": "stream",
     "text": [
      "         sum             mean              \n",
      "Product    A    B    C      A      B      C\n",
      "Region                                     \n",
      "East     100  150  200  100.0  150.0  200.0\n",
      "North    120  170  220  120.0  170.0  220.0\n",
      "West     110  160  210  110.0  160.0  210.0\n"
     ]
    }
   ],
   "source": [
    "# Pivot table with multiple aggregate functions\n",
    "pivot_table = df.pivot_table(values='Sales', index='Region', columns='Product', aggfunc=['sum', 'mean'])\n",
    "print(pivot_table)"
   ]
  },
  {
   "cell_type": "markdown",
   "id": "1dc3b37e-c4bd-419e-980e-543e972bcf54",
   "metadata": {},
   "source": [
    "## Working with Time-Series Data"
   ]
  },
  {
   "cell_type": "code",
   "execution_count": 70,
   "id": "b539ba2d-cc8a-4aec-a32c-3a8baa9bb1b1",
   "metadata": {},
   "outputs": [],
   "source": [
    "# Create a time series\n",
    "date_range = pd.date_range(start='2023-01-01', periods=6, freq='D')\n",
    "data = {\n",
    "    'Date': date_range,\n",
    "    'Sales': [200, 220, 210, 215, 230, 250]\n",
    "}\n",
    "\n",
    "df = pd.DataFrame(data)"
   ]
  },
  {
   "cell_type": "code",
   "execution_count": 72,
   "id": "4832dc7b-47fb-4f63-b034-db556445ea06",
   "metadata": {},
   "outputs": [
    {
     "data": {
      "text/html": [
       "<div>\n",
       "<style scoped>\n",
       "    .dataframe tbody tr th:only-of-type {\n",
       "        vertical-align: middle;\n",
       "    }\n",
       "\n",
       "    .dataframe tbody tr th {\n",
       "        vertical-align: top;\n",
       "    }\n",
       "\n",
       "    .dataframe thead th {\n",
       "        text-align: right;\n",
       "    }\n",
       "</style>\n",
       "<table border=\"1\" class=\"dataframe\">\n",
       "  <thead>\n",
       "    <tr style=\"text-align: right;\">\n",
       "      <th></th>\n",
       "      <th>Date</th>\n",
       "      <th>Sales</th>\n",
       "    </tr>\n",
       "  </thead>\n",
       "  <tbody>\n",
       "    <tr>\n",
       "      <th>0</th>\n",
       "      <td>2023-01-01</td>\n",
       "      <td>200</td>\n",
       "    </tr>\n",
       "    <tr>\n",
       "      <th>1</th>\n",
       "      <td>2023-01-02</td>\n",
       "      <td>220</td>\n",
       "    </tr>\n",
       "    <tr>\n",
       "      <th>2</th>\n",
       "      <td>2023-01-03</td>\n",
       "      <td>210</td>\n",
       "    </tr>\n",
       "    <tr>\n",
       "      <th>3</th>\n",
       "      <td>2023-01-04</td>\n",
       "      <td>215</td>\n",
       "    </tr>\n",
       "    <tr>\n",
       "      <th>4</th>\n",
       "      <td>2023-01-05</td>\n",
       "      <td>230</td>\n",
       "    </tr>\n",
       "    <tr>\n",
       "      <th>5</th>\n",
       "      <td>2023-01-06</td>\n",
       "      <td>250</td>\n",
       "    </tr>\n",
       "  </tbody>\n",
       "</table>\n",
       "</div>"
      ],
      "text/plain": [
       "        Date  Sales\n",
       "0 2023-01-01    200\n",
       "1 2023-01-02    220\n",
       "2 2023-01-03    210\n",
       "3 2023-01-04    215\n",
       "4 2023-01-05    230\n",
       "5 2023-01-06    250"
      ]
     },
     "execution_count": 72,
     "metadata": {},
     "output_type": "execute_result"
    }
   ],
   "source": [
    "df"
   ]
  },
  {
   "cell_type": "code",
   "execution_count": 74,
   "id": "56f11c2e-941b-4c4b-a853-520094b219db",
   "metadata": {},
   "outputs": [],
   "source": [
    "df.set_index('Date', inplace=True)"
   ]
  },
  {
   "cell_type": "code",
   "execution_count": 76,
   "id": "4d98561d-cf56-4f4e-9718-51683147fc77",
   "metadata": {},
   "outputs": [
    {
     "data": {
      "text/html": [
       "<div>\n",
       "<style scoped>\n",
       "    .dataframe tbody tr th:only-of-type {\n",
       "        vertical-align: middle;\n",
       "    }\n",
       "\n",
       "    .dataframe tbody tr th {\n",
       "        vertical-align: top;\n",
       "    }\n",
       "\n",
       "    .dataframe thead th {\n",
       "        text-align: right;\n",
       "    }\n",
       "</style>\n",
       "<table border=\"1\" class=\"dataframe\">\n",
       "  <thead>\n",
       "    <tr style=\"text-align: right;\">\n",
       "      <th></th>\n",
       "      <th>Sales</th>\n",
       "    </tr>\n",
       "    <tr>\n",
       "      <th>Date</th>\n",
       "      <th></th>\n",
       "    </tr>\n",
       "  </thead>\n",
       "  <tbody>\n",
       "    <tr>\n",
       "      <th>2023-01-01</th>\n",
       "      <td>200</td>\n",
       "    </tr>\n",
       "    <tr>\n",
       "      <th>2023-01-02</th>\n",
       "      <td>220</td>\n",
       "    </tr>\n",
       "    <tr>\n",
       "      <th>2023-01-03</th>\n",
       "      <td>210</td>\n",
       "    </tr>\n",
       "    <tr>\n",
       "      <th>2023-01-04</th>\n",
       "      <td>215</td>\n",
       "    </tr>\n",
       "    <tr>\n",
       "      <th>2023-01-05</th>\n",
       "      <td>230</td>\n",
       "    </tr>\n",
       "    <tr>\n",
       "      <th>2023-01-06</th>\n",
       "      <td>250</td>\n",
       "    </tr>\n",
       "  </tbody>\n",
       "</table>\n",
       "</div>"
      ],
      "text/plain": [
       "            Sales\n",
       "Date             \n",
       "2023-01-01    200\n",
       "2023-01-02    220\n",
       "2023-01-03    210\n",
       "2023-01-04    215\n",
       "2023-01-05    230\n",
       "2023-01-06    250"
      ]
     },
     "execution_count": 76,
     "metadata": {},
     "output_type": "execute_result"
    }
   ],
   "source": [
    "df"
   ]
  },
  {
   "cell_type": "code",
   "execution_count": 78,
   "id": "3e8198cf-6d2b-492f-9010-7944e49341d3",
   "metadata": {},
   "outputs": [],
   "source": [
    "# Resample the data to calculate weekly sales total\n",
    "weekly_sales = df.resample('W').sum()"
   ]
  },
  {
   "cell_type": "code",
   "execution_count": 80,
   "id": "411105c4-e907-4c9e-8775-b6e6ca4d0bb7",
   "metadata": {},
   "outputs": [
    {
     "data": {
      "text/html": [
       "<div>\n",
       "<style scoped>\n",
       "    .dataframe tbody tr th:only-of-type {\n",
       "        vertical-align: middle;\n",
       "    }\n",
       "\n",
       "    .dataframe tbody tr th {\n",
       "        vertical-align: top;\n",
       "    }\n",
       "\n",
       "    .dataframe thead th {\n",
       "        text-align: right;\n",
       "    }\n",
       "</style>\n",
       "<table border=\"1\" class=\"dataframe\">\n",
       "  <thead>\n",
       "    <tr style=\"text-align: right;\">\n",
       "      <th></th>\n",
       "      <th>Sales</th>\n",
       "    </tr>\n",
       "    <tr>\n",
       "      <th>Date</th>\n",
       "      <th></th>\n",
       "    </tr>\n",
       "  </thead>\n",
       "  <tbody>\n",
       "    <tr>\n",
       "      <th>2023-01-01</th>\n",
       "      <td>200</td>\n",
       "    </tr>\n",
       "    <tr>\n",
       "      <th>2023-01-08</th>\n",
       "      <td>1125</td>\n",
       "    </tr>\n",
       "  </tbody>\n",
       "</table>\n",
       "</div>"
      ],
      "text/plain": [
       "            Sales\n",
       "Date             \n",
       "2023-01-01    200\n",
       "2023-01-08   1125"
      ]
     },
     "execution_count": 80,
     "metadata": {},
     "output_type": "execute_result"
    }
   ],
   "source": [
    "weekly_sales"
   ]
  },
  {
   "cell_type": "code",
   "execution_count": 82,
   "id": "74af66a4-0758-44c6-b379-815d96c97591",
   "metadata": {},
   "outputs": [],
   "source": [
    "# Shift data by 1 day forward\n",
    "df_shifted = df.shift(1)\n"
   ]
  },
  {
   "cell_type": "code",
   "execution_count": 84,
   "id": "a018b5d5-4d9a-44c6-ae08-89ab39821fca",
   "metadata": {},
   "outputs": [
    {
     "name": "stdout",
     "output_type": "stream",
     "text": [
      "            Sales\n",
      "Date             \n",
      "2023-01-01    NaN\n",
      "2023-01-02  200.0\n",
      "2023-01-03  220.0\n",
      "2023-01-04  210.0\n",
      "2023-01-05  215.0\n",
      "2023-01-06  230.0\n"
     ]
    }
   ],
   "source": [
    "print(df_shifted)"
   ]
  },
  {
   "cell_type": "code",
   "execution_count": 86,
   "id": "3da7aac1-e267-44b9-acae-29478fb8da73",
   "metadata": {},
   "outputs": [],
   "source": [
    "# Calculate the rolling mean with a window of 3 days\n",
    "rolling_mean = df['Sales'].rolling(window=3).mean()"
   ]
  },
  {
   "cell_type": "code",
   "execution_count": 88,
   "id": "5aa359d4-cd6d-4888-a171-5697e8902667",
   "metadata": {},
   "outputs": [
    {
     "name": "stdout",
     "output_type": "stream",
     "text": [
      "Date\n",
      "2023-01-01           NaN\n",
      "2023-01-02           NaN\n",
      "2023-01-03    210.000000\n",
      "2023-01-04    215.000000\n",
      "2023-01-05    218.333333\n",
      "2023-01-06    231.666667\n",
      "Name: Sales, dtype: float64\n"
     ]
    }
   ],
   "source": [
    "print(rolling_mean)"
   ]
  },
  {
   "cell_type": "raw",
   "id": "ac3bd239-4c61-443b-82c3-76a4e5fb654b",
   "metadata": {},
   "source": [
    "If you're working with a large file, it's better to load it in chunks using chunksize."
   ]
  },
  {
   "cell_type": "raw",
   "id": "b4f784f8-4be5-4b8c-954a-0c080d36b72a",
   "metadata": {},
   "source": [
    "chunk_iter = pd.read_csv('large_data.csv', chunksize=10000)"
   ]
  },
  {
   "cell_type": "raw",
   "id": "b7b11a0c-9f09-470e-9688-f534ebb1d7d5",
   "metadata": {},
   "source": [
    "# Specify data types to reduce memory usage\n",
    "\n",
    "df = pd.read_csv('large_data.csv', dtype={'column_name': 'int32'})"
   ]
  },
  {
   "cell_type": "raw",
   "id": "4578b553-d43a-41c0-9104-ae8fe5b27537",
   "metadata": {},
   "source": [
    "# Convert to more efficient data types\n",
    "\n",
    "df['col_name'] = df['col_name'].astype('float32')"
   ]
  },
  {
   "cell_type": "markdown",
   "id": "63654d3d-53e4-4142-98a8-92f301fed3c0",
   "metadata": {},
   "source": [
    "If your dataset is too large for pandas to handle, consider using Dask, which enables parallel computing and is compatible with pandas. Dask DataFrame provides a similar interface to pandas, but handles operations in parallel, allowing it to work with datasets that don't fit into memory."
   ]
  },
  {
   "cell_type": "code",
   "execution_count": 91,
   "id": "dbba0b20-9be4-4af8-89b4-784a2e034ea6",
   "metadata": {},
   "outputs": [
    {
     "name": "stdout",
     "output_type": "stream",
     "text": [
      "Requirement already satisfied: dask[dataframe] in c:\\users\\surjayandutta\\anaconda3\\lib\\site-packages (2024.5.0)\n",
      "Requirement already satisfied: click>=8.1 in c:\\users\\surjayandutta\\anaconda3\\lib\\site-packages (from dask[dataframe]) (8.1.7)\n",
      "Requirement already satisfied: cloudpickle>=1.5.0 in c:\\users\\surjayandutta\\anaconda3\\lib\\site-packages (from dask[dataframe]) (2.2.1)\n",
      "Requirement already satisfied: fsspec>=2021.09.0 in c:\\users\\surjayandutta\\anaconda3\\lib\\site-packages (from dask[dataframe]) (2024.3.1)\n",
      "Requirement already satisfied: packaging>=20.0 in c:\\users\\surjayandutta\\anaconda3\\lib\\site-packages (from dask[dataframe]) (23.2)\n",
      "Requirement already satisfied: partd>=1.2.0 in c:\\users\\surjayandutta\\anaconda3\\lib\\site-packages (from dask[dataframe]) (1.4.1)\n",
      "Requirement already satisfied: pyyaml>=5.3.1 in c:\\users\\surjayandutta\\anaconda3\\lib\\site-packages (from dask[dataframe]) (6.0.1)\n",
      "Requirement already satisfied: toolz>=0.10.0 in c:\\users\\surjayandutta\\anaconda3\\lib\\site-packages (from dask[dataframe]) (0.12.0)\n",
      "Requirement already satisfied: pandas>=1.3 in c:\\users\\surjayandutta\\anaconda3\\lib\\site-packages (from dask[dataframe]) (2.2.2)\n",
      "Requirement already satisfied: dask-expr<1.2,>=1.1 in c:\\users\\surjayandutta\\anaconda3\\lib\\site-packages (from dask[dataframe]) (1.1.0)\n",
      "Requirement already satisfied: colorama in c:\\users\\surjayandutta\\anaconda3\\lib\\site-packages (from click>=8.1->dask[dataframe]) (0.4.6)\n",
      "Requirement already satisfied: pyarrow>=7.0.0 in c:\\users\\surjayandutta\\anaconda3\\lib\\site-packages (from dask-expr<1.2,>=1.1->dask[dataframe]) (14.0.2)\n",
      "Requirement already satisfied: numpy>=1.26.0 in c:\\users\\surjayandutta\\anaconda3\\lib\\site-packages (from pandas>=1.3->dask[dataframe]) (1.26.4)\n",
      "Requirement already satisfied: python-dateutil>=2.8.2 in c:\\users\\surjayandutta\\anaconda3\\lib\\site-packages (from pandas>=1.3->dask[dataframe]) (2.9.0.post0)\n",
      "Requirement already satisfied: pytz>=2020.1 in c:\\users\\surjayandutta\\anaconda3\\lib\\site-packages (from pandas>=1.3->dask[dataframe]) (2024.1)\n",
      "Requirement already satisfied: tzdata>=2022.7 in c:\\users\\surjayandutta\\anaconda3\\lib\\site-packages (from pandas>=1.3->dask[dataframe]) (2023.3)\n",
      "Requirement already satisfied: locket in c:\\users\\surjayandutta\\anaconda3\\lib\\site-packages (from partd>=1.2.0->dask[dataframe]) (1.0.0)\n",
      "Requirement already satisfied: six>=1.5 in c:\\users\\surjayandutta\\anaconda3\\lib\\site-packages (from python-dateutil>=2.8.2->pandas>=1.3->dask[dataframe]) (1.16.0)\n"
     ]
    }
   ],
   "source": [
    "!pip install dask[dataframe]"
   ]
  },
  {
   "cell_type": "raw",
   "id": "d411c91e-3226-4ad0-a043-8c29da5d2e5b",
   "metadata": {},
   "source": [
    "A MultiIndex (hierarchical indexing) allows pandas DataFrames to store and manipulate data that’s organized across multiple dimensions."
   ]
  },
  {
   "cell_type": "code",
   "execution_count": 93,
   "id": "21d09fef-08b8-4edc-bb9d-c9e13ff081dc",
   "metadata": {},
   "outputs": [],
   "source": [
    "arrays = [\n",
    "    ['East', 'East', 'West', 'West'],\n",
    "    ['Apple', 'Banana', 'Apple', 'Banana']\n",
    "]\n",
    "\n",
    "index = pd.MultiIndex.from_arrays(arrays, names=('Region', 'Product'))\n",
    "df = pd.DataFrame({'Sales': [100, 200, 300, 400]}, index=index)\n"
   ]
  },
  {
   "cell_type": "code",
   "execution_count": 95,
   "id": "7a99f7af-cecc-4a36-aa7c-f94db38bb370",
   "metadata": {},
   "outputs": [
    {
     "data": {
      "text/html": [
       "<div>\n",
       "<style scoped>\n",
       "    .dataframe tbody tr th:only-of-type {\n",
       "        vertical-align: middle;\n",
       "    }\n",
       "\n",
       "    .dataframe tbody tr th {\n",
       "        vertical-align: top;\n",
       "    }\n",
       "\n",
       "    .dataframe thead th {\n",
       "        text-align: right;\n",
       "    }\n",
       "</style>\n",
       "<table border=\"1\" class=\"dataframe\">\n",
       "  <thead>\n",
       "    <tr style=\"text-align: right;\">\n",
       "      <th></th>\n",
       "      <th></th>\n",
       "      <th>Sales</th>\n",
       "    </tr>\n",
       "    <tr>\n",
       "      <th>Region</th>\n",
       "      <th>Product</th>\n",
       "      <th></th>\n",
       "    </tr>\n",
       "  </thead>\n",
       "  <tbody>\n",
       "    <tr>\n",
       "      <th rowspan=\"2\" valign=\"top\">East</th>\n",
       "      <th>Apple</th>\n",
       "      <td>100</td>\n",
       "    </tr>\n",
       "    <tr>\n",
       "      <th>Banana</th>\n",
       "      <td>200</td>\n",
       "    </tr>\n",
       "    <tr>\n",
       "      <th rowspan=\"2\" valign=\"top\">West</th>\n",
       "      <th>Apple</th>\n",
       "      <td>300</td>\n",
       "    </tr>\n",
       "    <tr>\n",
       "      <th>Banana</th>\n",
       "      <td>400</td>\n",
       "    </tr>\n",
       "  </tbody>\n",
       "</table>\n",
       "</div>"
      ],
      "text/plain": [
       "                Sales\n",
       "Region Product       \n",
       "East   Apple      100\n",
       "       Banana     200\n",
       "West   Apple      300\n",
       "       Banana     400"
      ]
     },
     "execution_count": 95,
     "metadata": {},
     "output_type": "execute_result"
    }
   ],
   "source": [
    "df"
   ]
  },
  {
   "cell_type": "code",
   "execution_count": 97,
   "id": "f90e2a62-7eee-43f9-a44f-f320ab8db0e7",
   "metadata": {},
   "outputs": [
    {
     "name": "stdout",
     "output_type": "stream",
     "text": [
      "         Sales\n",
      "Product       \n",
      "Apple      100\n",
      "Banana     200\n"
     ]
    }
   ],
   "source": [
    "# Access sales data for 'East' region\n",
    "print(df.loc['East'])"
   ]
  },
  {
   "cell_type": "code",
   "execution_count": 99,
   "id": "25efaded-ad8f-4c76-9754-a4bf2fca939f",
   "metadata": {},
   "outputs": [
    {
     "name": "stdout",
     "output_type": "stream",
     "text": [
      "Sales    100\n",
      "Name: (East, Apple), dtype: int64\n"
     ]
    }
   ],
   "source": [
    "# Access sales data for 'East' region and 'Apple' product\n",
    "print(df.loc[('East', 'Apple')])"
   ]
  },
  {
   "cell_type": "raw",
   "id": "dec1b10d-70f3-42a0-ac41-ef560ebb8494",
   "metadata": {},
   "source": [
    "Unstacking: Converts a level of the row index into a column.\n",
    "Stacking: The opposite, turning columns into row indices."
   ]
  },
  {
   "cell_type": "code",
   "execution_count": 101,
   "id": "f1dd94c3-b91c-4302-b3f0-1cb329bff0c9",
   "metadata": {},
   "outputs": [
    {
     "name": "stdout",
     "output_type": "stream",
     "text": [
      "        Sales       \n",
      "Product Apple Banana\n",
      "Region              \n",
      "East      100    200\n",
      "West      300    400\n"
     ]
    }
   ],
   "source": [
    "# Unstack the 'Product' level\n",
    "unstacked = df.unstack(level='Product')\n",
    "print(unstacked)"
   ]
  },
  {
   "cell_type": "code",
   "execution_count": 103,
   "id": "eab572d9-e62f-4e4e-8f51-459bc97944e9",
   "metadata": {},
   "outputs": [
    {
     "name": "stdout",
     "output_type": "stream",
     "text": [
      "                Sales\n",
      "Region Product       \n",
      "East   Apple      100\n",
      "       Banana     200\n",
      "West   Apple      300\n",
      "       Banana     400\n"
     ]
    }
   ],
   "source": [
    "# Stack back to original\n",
    "stacked = unstacked.stack(future_stack=True)\n",
    "print(stacked)"
   ]
  },
  {
   "cell_type": "code",
   "execution_count": 105,
   "id": "a31995bc-46f4-499e-ad19-9addd1fda05d",
   "metadata": {},
   "outputs": [],
   "source": [
    "df1 = pd.DataFrame({'key1': ['A', 'B', 'C'], 'key2': [1, 2, 3], 'value': [10, 20, 30]})\n",
    "df2 = pd.DataFrame({'key1': ['A', 'B', 'D'], 'key2': [1, 2, 4], 'value': [40, 50, 60]})\n",
    "\n",
    "# Merge on multiple keys\n",
    "merged = pd.merge(df1, df2, on=['key1', 'key2'], how='inner')"
   ]
  },
  {
   "cell_type": "code",
   "execution_count": 107,
   "id": "af0b0a3b-d8fb-4343-8f59-7894e0c029bc",
   "metadata": {},
   "outputs": [
    {
     "name": "stdout",
     "output_type": "stream",
     "text": [
      "  key1  key2  value_x  value_y\n",
      "0    A     1       10       40\n",
      "1    B     2       20       50\n"
     ]
    }
   ],
   "source": [
    "print(merged)"
   ]
  },
  {
   "cell_type": "code",
   "execution_count": 109,
   "id": "c98a724c-d510-43f8-afe0-81f568d7709c",
   "metadata": {},
   "outputs": [],
   "source": [
    "# Joining two DataFrames on index\n",
    "df1 = pd.DataFrame({'value': [1, 2, 3]}, index=['A', 'B', 'C'])\n",
    "df2 = pd.DataFrame({'value': [4, 5, 6]}, index=['A', 'B', 'D'])\n",
    "\n",
    "joined = df1.join(df2, lsuffix='_left', rsuffix='_right')"
   ]
  },
  {
   "cell_type": "code",
   "execution_count": 111,
   "id": "6d215866-4a1d-4d01-ab63-db175d8aa245",
   "metadata": {},
   "outputs": [
    {
     "name": "stdout",
     "output_type": "stream",
     "text": [
      "   value_left  value_right\n",
      "A           1          4.0\n",
      "B           2          5.0\n",
      "C           3          NaN\n"
     ]
    }
   ],
   "source": [
    "print(joined)"
   ]
  },
  {
   "cell_type": "code",
   "execution_count": 113,
   "id": "36084efa-eb09-40eb-ba8b-9dbb92bfd84e",
   "metadata": {},
   "outputs": [
    {
     "name": "stdout",
     "output_type": "stream",
     "text": [
      "Requirement already satisfied: matplotlib in c:\\users\\surjayandutta\\anaconda3\\lib\\site-packages (3.8.4)\n",
      "Requirement already satisfied: contourpy>=1.0.1 in c:\\users\\surjayandutta\\anaconda3\\lib\\site-packages (from matplotlib) (1.2.0)\n",
      "Requirement already satisfied: cycler>=0.10 in c:\\users\\surjayandutta\\anaconda3\\lib\\site-packages (from matplotlib) (0.11.0)\n",
      "Requirement already satisfied: fonttools>=4.22.0 in c:\\users\\surjayandutta\\anaconda3\\lib\\site-packages (from matplotlib) (4.51.0)\n",
      "Requirement already satisfied: kiwisolver>=1.3.1 in c:\\users\\surjayandutta\\anaconda3\\lib\\site-packages (from matplotlib) (1.4.4)\n",
      "Requirement already satisfied: numpy>=1.21 in c:\\users\\surjayandutta\\anaconda3\\lib\\site-packages (from matplotlib) (1.26.4)\n",
      "Requirement already satisfied: packaging>=20.0 in c:\\users\\surjayandutta\\anaconda3\\lib\\site-packages (from matplotlib) (23.2)\n",
      "Requirement already satisfied: pillow>=8 in c:\\users\\surjayandutta\\anaconda3\\lib\\site-packages (from matplotlib) (10.3.0)\n",
      "Requirement already satisfied: pyparsing>=2.3.1 in c:\\users\\surjayandutta\\anaconda3\\lib\\site-packages (from matplotlib) (3.0.9)\n",
      "Requirement already satisfied: python-dateutil>=2.7 in c:\\users\\surjayandutta\\anaconda3\\lib\\site-packages (from matplotlib) (2.9.0.post0)\n",
      "Requirement already satisfied: six>=1.5 in c:\\users\\surjayandutta\\anaconda3\\lib\\site-packages (from python-dateutil>=2.7->matplotlib) (1.16.0)\n"
     ]
    }
   ],
   "source": [
    "!pip install matplotlib\n"
   ]
  },
  {
   "cell_type": "code",
   "execution_count": 115,
   "id": "d361d0c0-f0ec-4859-a05f-5d2f3846be0c",
   "metadata": {},
   "outputs": [
    {
     "data": {
      "image/png": "[encoded data removed]",
      "text/plain": [
       "<Figure size 640x480 with 1 Axes>"
      ]
     },
     "metadata": {},
     "output_type": "display_data"
    },
    {
     "data": {
      "image/png": "[encoded data removed]",
      "text/plain": [
       "<Figure size 640x480 with 1 Axes>"
      ]
     },
     "metadata": {},
     "output_type": "display_data"
    }
   ],
   "source": [
    "import matplotlib.pyplot as plt\n",
    "\n",
    "# Plot data\n",
    "df.plot(kind='bar')\n",
    "plt.show()\n",
    "\n",
    "# Plot a time-series\n",
    "df['Sales'].plot()\n",
    "plt.show()"
   ]
  },
  {
   "cell_type": "code",
   "execution_count": 117,
   "id": "cf52a6b1-6dd2-41b3-80ee-25548e2ae1a6",
   "metadata": {},
   "outputs": [],
   "source": [
    "import dask.dataframe as dd"
   ]
  },
  {
   "cell_type": "markdown",
   "id": "088e9c25-0663-4c1e-a40b-8d1dbda0f936",
   "metadata": {},
   "source": [
    "When grouping by multiple columns, pandas creates a MultiIndex that allows for more granular control of grouped data."
   ]
  },
  {
   "cell_type": "code",
   "execution_count": 120,
   "id": "eb2e8d6d-d083-45b9-a0da-07a65943dafd",
   "metadata": {},
   "outputs": [],
   "source": [
    "# Sample data\n",
    "data = {\n",
    "    'Department': ['HR', 'HR', 'IT', 'IT', 'Finance', 'Finance'],\n",
    "    'Employee': ['John', 'Anna', 'Peter', 'Linda', 'Steve', 'Kim'],\n",
    "    'Salary': [70000, 65000, 80000, 85000, 95000, 90000],\n",
    "    'Bonus': [5000, 4000, 6000, 7000, 8000, 7500]\n",
    "}\n",
    "\n",
    "df = pd.DataFrame(data)\n",
    "\n",
    "# Group by Department and aggregate multiple columns\n",
    "grouped = df.groupby('Department').agg({'Salary': 'mean', 'Bonus': 'sum'})"
   ]
  },
  {
   "cell_type": "code",
   "execution_count": 122,
   "id": "017c9559-9522-461d-b1d4-2550f408ddff",
   "metadata": {},
   "outputs": [
    {
     "name": "stdout",
     "output_type": "stream",
     "text": [
      "             Salary  Bonus\n",
      "Department                \n",
      "Finance     92500.0  15500\n",
      "HR          67500.0   9000\n",
      "IT          82500.0  13000\n"
     ]
    }
   ],
   "source": [
    "print(grouped)"
   ]
  },
  {
   "cell_type": "markdown",
   "id": "105e45a9-1dc8-4e2c-bbf6-fbcff4c4de6d",
   "metadata": {},
   "source": [
    "You can apply custom functions to groups using agg or apply. Let’s create a custom aggregation to find the range of salaries."
   ]
  },
  {
   "cell_type": "code",
   "execution_count": 127,
   "id": "59281f80-a7b5-47a9-ab05-b18423e94ac0",
   "metadata": {},
   "outputs": [
    {
     "name": "stdout",
     "output_type": "stream",
     "text": [
      "            Salary_Range  Avg_Bonus\n",
      "Department                         \n",
      "Finance             5000     7750.0\n",
      "HR                  5000     4500.0\n",
      "IT                  5000     6500.0\n"
     ]
    }
   ],
   "source": [
    "# Custom aggregation function for salary range\n",
    "grouped = df.groupby('Department').agg(\n",
    "    Salary_Range=('Salary', lambda x: x.max() - x.min()),\n",
    "    Avg_Bonus=('Bonus', 'mean')\n",
    ")\n",
    "print(grouped)\n"
   ]
  },
  {
   "cell_type": "markdown",
   "id": "83efffc4-ef35-4092-9b68-92f9e85287f7",
   "metadata": {},
   "source": [
    "Pandas provides several window functions that allow you to perform calculations on sliding or expanding windows of data. These are especially useful for time-series analysis.\n",
    "\n",
    "A rolling window aggregates data over a fixed-size moving window. Common operations include calculating rolling means, sums, or custom functions."
   ]
  },
  {
   "cell_type": "code",
   "execution_count": 133,
   "id": "23e92ed6-0458-44ca-9322-5bd08fd42bc1",
   "metadata": {},
   "outputs": [
    {
     "name": "stdout",
     "output_type": "stream",
     "text": [
      "            Value  Rolling_Mean\n",
      "Date                           \n",
      "2023-01-01      1           NaN\n",
      "2023-01-02      2           NaN\n",
      "2023-01-03      3           2.0\n",
      "2023-01-04      4           3.0\n",
      "2023-01-05      5           4.0\n",
      "2023-01-06      6           5.0\n",
      "2023-01-07      7           6.0\n",
      "2023-01-08      8           7.0\n",
      "2023-01-09      9           8.0\n",
      "2023-01-10     10           9.0\n"
     ]
    }
   ],
   "source": [
    "# Sample data\n",
    "data = {'Date': pd.date_range(start='2023-01-01', periods=10), 'Value': [1, 2, 3, 4, 5, 6, 7, 8, 9, 10]}\n",
    "df = pd.DataFrame(data)\n",
    "df.set_index('Date', inplace=True)\n",
    "\n",
    "# Rolling mean with a window of 3 periods\n",
    "df['Rolling_Mean'] = df['Value'].rolling(window=3).mean()\n",
    "print(df)\n"
   ]
  },
  {
   "cell_type": "raw",
   "id": "74a3f2e0-6614-42f8-974a-7991f7ce43f8",
   "metadata": {},
   "source": [
    "An expanding window keeps growing as it traverses the dataset, aggregating all values up to the current point."
   ]
  },
  {
   "cell_type": "code",
   "execution_count": 135,
   "id": "dca698f2-35fe-434f-8165-68e4b6c67ab5",
   "metadata": {},
   "outputs": [
    {
     "name": "stdout",
     "output_type": "stream",
     "text": [
      "            Value  Rolling_Mean  Expanding_Sum\n",
      "Date                                          \n",
      "2023-01-01      1           NaN            1.0\n",
      "2023-01-02      2           NaN            3.0\n",
      "2023-01-03      3           2.0            6.0\n",
      "2023-01-04      4           3.0           10.0\n",
      "2023-01-05      5           4.0           15.0\n",
      "2023-01-06      6           5.0           21.0\n",
      "2023-01-07      7           6.0           28.0\n",
      "2023-01-08      8           7.0           36.0\n",
      "2023-01-09      9           8.0           45.0\n",
      "2023-01-10     10           9.0           55.0\n"
     ]
    }
   ],
   "source": [
    "# Expanding sum\n",
    "df['Expanding_Sum'] = df['Value'].expanding().sum()\n",
    "print(df)"
   ]
  },
  {
   "cell_type": "raw",
   "id": "58e3c8e7-33be-46b7-8a32-eb1f7b80696d",
   "metadata": {},
   "source": [
    "Exponentially Weighted Windows (EWM) applies exponentially decreasing weights to older data points, giving more importance to recent observations."
   ]
  },
  {
   "cell_type": "code",
   "execution_count": 137,
   "id": "57b63b22-1934-4083-b73a-b512c6264daf",
   "metadata": {},
   "outputs": [
    {
     "name": "stdout",
     "output_type": "stream",
     "text": [
      "            Value  Rolling_Mean  Expanding_Sum       EWM\n",
      "Date                                                    \n",
      "2023-01-01      1           NaN            1.0  1.000000\n",
      "2023-01-02      2           NaN            3.0  1.666667\n",
      "2023-01-03      3           2.0            6.0  2.428571\n",
      "2023-01-04      4           3.0           10.0  3.266667\n",
      "2023-01-05      5           4.0           15.0  4.161290\n",
      "2023-01-06      6           5.0           21.0  5.095238\n",
      "2023-01-07      7           6.0           28.0  6.055118\n",
      "2023-01-08      8           7.0           36.0  7.031373\n",
      "2023-01-09      9           8.0           45.0  8.017613\n",
      "2023-01-10     10           9.0           55.0  9.009775\n"
     ]
    }
   ],
   "source": [
    "# Exponentially weighted mean\n",
    "df['EWM'] = df['Value'].ewm(span=3).mean()\n",
    "print(df)"
   ]
  },
  {
   "cell_type": "code",
   "execution_count": 139,
   "id": "be1df998-87e1-4758-abd0-449a4557080f",
   "metadata": {},
   "outputs": [
    {
     "name": "stdout",
     "output_type": "stream",
     "text": [
      "         Sales\n",
      "Product       \n",
      "A          100\n",
      "B          200\n"
     ]
    }
   ],
   "source": [
    "# Sample MultiIndex DataFrame\n",
    "arrays = [\n",
    "    ['North', 'North', 'South', 'South'],\n",
    "    ['A', 'B', 'A', 'B']\n",
    "]\n",
    "index = pd.MultiIndex.from_arrays(arrays, names=('Region', 'Product'))\n",
    "df = pd.DataFrame({'Sales': [100, 200, 300, 400]}, index=index)\n",
    "\n",
    "# Select data for the 'North' region\n",
    "print(df.xs('North'))\n"
   ]
  },
  {
   "cell_type": "code",
   "execution_count": 141,
   "id": "e62ecb0a-c117-4b5c-8e47-745f9b60355f",
   "metadata": {},
   "outputs": [
    {
     "name": "stdout",
     "output_type": "stream",
     "text": [
      "        Sales\n",
      "Region       \n",
      "North     100\n",
      "South     300\n"
     ]
    }
   ],
   "source": [
    "# Select a cross-section across levels\n",
    "print(df.xs('A', level='Product'))\n"
   ]
  },
  {
   "cell_type": "raw",
   "id": "c5096897-1f1e-4c52-9ef8-632027a7d028",
   "metadata": {},
   "source": [
    "Pandas' method chaining is an elegant way to write readable code. By chaining methods together, you can avoid temporary variables and make the code easier to follow.\n",
    "\n",
    "However, some operations break the chain. That’s where the pipe() function comes into play, allowing you to apply custom functions in the chain."
   ]
  },
  {
   "cell_type": "code",
   "execution_count": 145,
   "id": "681cac38-021e-45fb-bd9c-6e3e2946869b",
   "metadata": {},
   "outputs": [
    {
     "name": "stdout",
     "output_type": "stream",
     "text": [
      "  Category  Sales\n",
      "0        B  275.0\n",
      "1        C  375.0\n"
     ]
    }
   ],
   "source": [
    "# Sample data\n",
    "df = pd.DataFrame({\n",
    "    'Category': ['A', 'A', 'B', 'B', 'C', 'C'],\n",
    "    'Sales': [200, 150, 250, 300, 400, 350]\n",
    "})\n",
    "\n",
    "# Method chaining: filter and calculate mean sales for each category\n",
    "result = (\n",
    "    df[df['Sales'] > 200]  # Filter rows where sales are > 200\n",
    "    .groupby('Category')    # Group by category\n",
    "    .agg({'Sales': 'mean'}) # Aggregate mean sales\n",
    "    .reset_index()          # Reset the index\n",
    ")\n",
    "print(result)\n"
   ]
  },
  {
   "cell_type": "markdown",
   "id": "4b04b799-9942-45f1-b0a6-8ae6c09b8c18",
   "metadata": {},
   "source": [
    "You can integrate custom functions into your method chain using pipe()."
   ]
  },
  {
   "cell_type": "code",
   "execution_count": 148,
   "id": "dfc5aed5-5931-476c-9477-751eb3e53b9f",
   "metadata": {},
   "outputs": [
    {
     "name": "stdout",
     "output_type": "stream",
     "text": [
      "  Category  Discounted_Sales\n",
      "0        A             157.5\n",
      "1        B             247.5\n",
      "2        C             337.5\n"
     ]
    }
   ],
   "source": [
    "# Custom function for applying a discount\n",
    "def apply_discount(df, discount):\n",
    "    df['Discounted_Sales'] = df['Sales'] * (1 - discount)\n",
    "    return df\n",
    "\n",
    "# Apply custom function with pipe\n",
    "result = (\n",
    "    df.pipe(apply_discount, discount=0.1)\n",
    "    .groupby('Category')\n",
    "    .agg({'Discounted_Sales': 'mean'})\n",
    "    .reset_index()\n",
    ")\n",
    "print(result)\n"
   ]
  },
  {
   "cell_type": "raw",
   "id": "d264d109-334c-4abb-893a-564927e1c64a",
   "metadata": {},
   "source": [
    "melt() is used to reshape wide DataFrames into a long format."
   ]
  },
  {
   "cell_type": "code",
   "execution_count": 150,
   "id": "6d84c13a-9d1b-4649-8ca4-8d149a921c95",
   "metadata": {},
   "outputs": [
    {
     "name": "stdout",
     "output_type": "stream",
     "text": [
      "  City  Year  Sales\n",
      "0   NY  2020    200\n",
      "1   LA  2020    300\n",
      "2   SF  2020    400\n",
      "3   NY  2021    250\n",
      "4   LA  2021    350\n",
      "5   SF  2021    450\n"
     ]
    }
   ],
   "source": [
    "# Sample wide-format DataFrame\n",
    "df = pd.DataFrame({\n",
    "    'City': ['NY', 'LA', 'SF'],\n",
    "    '2020': [200, 300, 400],\n",
    "    '2021': [250, 350, 450]\n",
    "})\n",
    "\n",
    "# Melt the DataFrame\n",
    "melted_df = pd.melt(df, id_vars=['City'], var_name='Year', value_name='Sales')\n",
    "print(melted_df)\n"
   ]
  },
  {
   "cell_type": "raw",
   "id": "4f68041f-99d7-4c3f-a209-2fa1d572e847",
   "metadata": {},
   "source": [
    "Sparse data structures are useful when dealing with datasets that contain a lot of missing or zero values, optimizing memory usage."
   ]
  },
  {
   "cell_type": "code",
   "execution_count": 152,
   "id": "d85e3259-fab8-49f1-9ce8-abe76853684b",
   "metadata": {},
   "outputs": [
    {
     "name": "stdout",
     "output_type": "stream",
     "text": [
      "0.30000000000000004\n"
     ]
    }
   ],
   "source": [
    "# Sparse DataFrame\n",
    "df = pd.DataFrame({\n",
    "    'A': [0, 0, 1, 0, 2],\n",
    "    'B': [0, 0, 0, 0, 3]\n",
    "}).astype(pd.SparseDtype(\"int\", fill_value=0))\n",
    "\n",
    "print(df.sparse.density)  # Density: proportion of non-zero elements"
   ]
  },
  {
   "cell_type": "code",
   "execution_count": 154,
   "id": "f92554af-eace-4196-80f4-7c73affacf82",
   "metadata": {},
   "outputs": [
    {
     "name": "stdout",
     "output_type": "stream",
     "text": [
      "0    0\n",
      "1    1\n",
      "2    0\n",
      "3    0\n",
      "4    2\n",
      "dtype: Sparse[int32, 0]\n"
     ]
    }
   ],
   "source": [
    "# Sparse Series\n",
    "sparse_series = pd.Series([0, 1, 0, 0, 2], dtype=pd.SparseDtype(\"int\", fill_value=0))\n",
    "print(sparse_series)"
   ]
  },
  {
   "cell_type": "raw",
   "id": "d3c152a3-53f1-41ac-a137-763f0746d5d3",
   "metadata": {},
   "source": [
    "Pandas provides powerful vectorized string functions for handling and manipulating text data in a highly efficient manner."
   ]
  },
  {
   "cell_type": "code",
   "execution_count": 156,
   "id": "94044b3a-4ccf-4419-8fd4-b0b5d2a76d46",
   "metadata": {},
   "outputs": [
    {
     "name": "stdout",
     "output_type": "stream",
     "text": [
      "         Names First_Name Last_Name        Upper\n",
      "0     John Doe       John       Doe     JOHN DOE\n",
      "1   Anna Smith       Anna     Smith   ANNA SMITH\n",
      "2  Peter Brown      Peter     Brown  PETER BROWN\n"
     ]
    }
   ],
   "source": [
    "# Sample DataFrame\n",
    "df = pd.DataFrame({'Names': ['John Doe', 'Anna Smith', 'Peter Brown']})\n",
    "\n",
    "# Apply string operations\n",
    "df['First_Name'] = df['Names'].str.split().str[0]\n",
    "df['Last_Name'] = df['Names'].str.split().str[1]\n",
    "df['Upper'] = df['Names'].str.upper()\n",
    "print(df)\n"
   ]
  },
  {
   "cell_type": "code",
   "execution_count": 158,
   "id": "255c76b1-cc29-4342-b0f7-1b933f397d66",
   "metadata": {},
   "outputs": [
    {
     "name": "stdout",
     "output_type": "stream",
     "text": [
      "         Names First_Name Last_Name        Upper  Has_Smith Names_Updated\n",
      "0     John Doe       John       Doe     JOHN DOE      False      John Doe\n",
      "1   Anna Smith       Anna     Smith   ANNA SMITH       True  Anna Johnson\n",
      "2  Peter Brown      Peter     Brown  PETER BROWN      False   Peter Brown\n"
     ]
    }
   ],
   "source": [
    "# Searching for a substring\n",
    "df['Has_Smith'] = df['Names'].str.contains('Smith')\n",
    "\n",
    "# Replacing substrings\n",
    "df['Names_Updated'] = df['Names'].str.replace('Smith', 'Johnson')\n",
    "print(df)\n"
   ]
  },
  {
   "cell_type": "raw",
   "id": "16f0352e-d8c4-438e-bd06-e7ee0fb67d84",
   "metadata": {},
   "source": [
    "Pandas can handle JSON and other semi-structured data with ease."
   ]
  },
  {
   "cell_type": "code",
   "execution_count": 162,
   "id": "dac452e6-9a15-413b-8208-d1d9ec2631fa",
   "metadata": {},
   "outputs": [
    {
     "name": "stdout",
     "output_type": "stream",
     "text": [
      "    name  age         city\n",
      "0   John   30     New York\n",
      "1   Anna   25  Los Angeles\n",
      "2  Peter   45      Chicago\n"
     ]
    }
   ],
   "source": [
    "\n",
    "from io import StringIO\n",
    "\n",
    "# JSON example\n",
    "data = '''\n",
    "[\n",
    "    {\"name\": \"John\", \"age\": 30, \"city\": \"New York\"},\n",
    "    {\"name\": \"Anna\", \"age\": 25, \"city\": \"Los Angeles\"},\n",
    "    {\"name\": \"Peter\", \"age\": 45, \"city\": \"Chicago\"}\n",
    "]\n",
    "'''\n",
    "\n",
    "# Wrap the JSON string with StringIO\n",
    "df = pd.read_json(StringIO(data))\n",
    "print(df)\n"
   ]
  },
  {
   "cell_type": "code",
   "execution_count": 164,
   "id": "433b6aa0-163e-478e-95a7-6febce301449",
   "metadata": {},
   "outputs": [
    {
     "name": "stdout",
     "output_type": "stream",
     "text": [
      "   name  age      id\n",
      "0  John   30  [1, 2]\n",
      "1  Anna   25  [1, 2]\n"
     ]
    }
   ],
   "source": [
    "# Nested JSON data\n",
    "data_nested = {\n",
    "    'id': [1, 2],\n",
    "    'info': [{'name': 'John', 'age': 30}, {'name': 'Anna', 'age': 25}]\n",
    "}\n",
    "\n",
    "# Create DataFrame and flatten the nested dictionary\n",
    "df = pd.json_normalize(data_nested, 'info', ['id'])\n",
    "print(df)\n"
   ]
  },
  {
   "cell_type": "raw",
   "id": "4ac8359f-82f1-4aba-9084-150ca9c32ed1",
   "metadata": {},
   "source": [
    "# Sample data\n",
    "df = pd.DataFrame({\n",
    "    'Name': ['Alice', 'Bob', 'Charlie', 'David'],\n",
    "    'Score': [85, 95, 78, 88]\n",
    "})\n",
    "\n",
    "# Sort by the length of the Name column\n",
    "df_sorted = df.sort_values('Name', key=lambda x: x.str.len())\n",
    "print(df_sorted)\n"
   ]
  },
  {
   "cell_type": "raw",
   "id": "0c32beac-b9d7-48e8-ba2d-9c139efab6d3",
   "metadata": {},
   "source": [
    "expanding() calculates cumulative statistics (like a cumulative sum or mean) as it goes through the data."
   ]
  },
  {
   "cell_type": "code",
   "execution_count": 168,
   "id": "58c48bf3-55c6-4dd1-959c-57b7ef7aee1a",
   "metadata": {},
   "outputs": [
    {
     "name": "stdout",
     "output_type": "stream",
     "text": [
      "   Score  Expanding_Mean\n",
      "0     10            10.0\n",
      "1     20            15.0\n",
      "2     30            20.0\n",
      "3     40            25.0\n",
      "4     50            30.0\n"
     ]
    }
   ],
   "source": [
    "# Sample data\n",
    "df = pd.DataFrame({'Score': [10, 20, 30, 40, 50]})\n",
    "\n",
    "# Calculate expanding mean\n",
    "df['Expanding_Mean'] = df['Score'].expanding().mean()\n",
    "print(df)"
   ]
  },
  {
   "cell_type": "raw",
   "id": "103eaacd-f71f-4816-9572-9a9b5b7a9209",
   "metadata": {},
   "source": [
    "Exponential weighted functions give greater weight to more recent data points."
   ]
  },
  {
   "cell_type": "code",
   "execution_count": 172,
   "id": "b9e90c20-8540-4e3a-818a-a3e43822f136",
   "metadata": {},
   "outputs": [
    {
     "name": "stdout",
     "output_type": "stream",
     "text": [
      "   Score  Expanding_Mean  EWM_Mean\n",
      "0     10            10.0    10.000\n",
      "1     20            15.0    15.000\n",
      "2     30            20.0    22.500\n",
      "3     40            25.0    31.250\n",
      "4     50            30.0    40.625\n"
     ]
    }
   ],
   "source": [
    "# Calculate exponentially weighted mean\n",
    "df['EWM_Mean'] = df['Score'].ewm(span=3, adjust=False).mean()\n",
    "print(df)\n"
   ]
  },
  {
   "cell_type": "raw",
   "id": "d833071f-78eb-4663-a80d-4853caeeb706",
   "metadata": {},
   "source": [
    "eval() allows you to perform calculations efficiently on DataFrames by parsing expressions directly within pandas, reducing memory usage and computation time."
   ]
  },
  {
   "cell_type": "code",
   "execution_count": 174,
   "id": "fe6a45e5-3e24-49f5-a528-077e91a07819",
   "metadata": {},
   "outputs": [
    {
     "name": "stdout",
     "output_type": "stream",
     "text": [
      "   A  B  A_plus_B\n",
      "0  1  4         5\n",
      "1  2  5         7\n",
      "2  3  6         9\n"
     ]
    }
   ],
   "source": [
    "# Sample data\n",
    "df = pd.DataFrame({\n",
    "    'A': [1, 2, 3],\n",
    "    'B': [4, 5, 6]\n",
    "})\n",
    "\n",
    "# Evaluate expression within DataFrame\n",
    "df['A_plus_B'] = df.eval('A + B')\n",
    "print(df)"
   ]
  },
  {
   "cell_type": "raw",
   "id": "76bb2ac8-d3cf-4731-843d-2b36667e229d",
   "metadata": {},
   "source": [
    "Use .apply() when you need to apply a function to each individual element in the DataFrame."
   ]
  },
  {
   "cell_type": "code",
   "execution_count": 178,
   "id": "6cfeff2e-c5bd-4ed1-81bb-ae5a26773675",
   "metadata": {},
   "outputs": [
    {
     "name": "stdout",
     "output_type": "stream",
     "text": [
      "   A    B\n",
      "0  1  100\n",
      "1  4  400\n",
      "2  9  900\n"
     ]
    }
   ],
   "source": [
    "\n",
    "df = pd.DataFrame({'A': [1, 2, 3], 'B': [10, 20, 30]})\n",
    "\n",
    "# Square each element\n",
    "df_squared = df.apply(lambda x: x ** 2)\n",
    "print(df_squared)\n"
   ]
  },
  {
   "cell_type": "code",
   "execution_count": 180,
   "id": "30666fa1-1f29-47a2-8854-4eb542403648",
   "metadata": {},
   "outputs": [
    {
     "name": "stdout",
     "output_type": "stream",
     "text": [
      "  Name  Age  Score\n",
      "1  Bob   24     92\n"
     ]
    }
   ],
   "source": [
    "# Sample data\n",
    "df = pd.DataFrame({\n",
    "    'Name': ['Alice', 'Bob', 'Charlie', 'David'],\n",
    "    'Age': [23, 24, 25, 22],\n",
    "    'Score': [85, 92, 78, 88]\n",
    "})\n",
    "\n",
    "# Use query to filter rows\n",
    "filtered_df = df.query('Age > 23 and Score > 80')\n",
    "print(filtered_df)\n"
   ]
  },
  {
   "cell_type": "code",
   "execution_count": 182,
   "id": "291a66bd-f1da-4e29-9029-b804fb6fee56",
   "metadata": {},
   "outputs": [
    {
     "name": "stdout",
     "output_type": "stream",
     "text": [
      "            Avg_Salary  Total_Bonus\n",
      "Department                         \n",
      "Finance        55000.0         4000\n",
      "HR             54000.0        11000\n",
      "IT             62500.0        15000\n"
     ]
    }
   ],
   "source": [
    "# Sample data\n",
    "df = pd.DataFrame({\n",
    "    'Department': ['HR', 'IT', 'Finance', 'HR', 'IT'],\n",
    "    'Salary': [50000, 60000, 55000, 58000, 65000],\n",
    "    'Bonus': [5000, 7000, 4000, 6000, 8000]\n",
    "})\n",
    "\n",
    "# Group by Department with multiple aggregations\n",
    "grouped = df.groupby('Department').agg(\n",
    "    Avg_Salary=('Salary', 'mean'),\n",
    "    Total_Bonus=('Bonus', 'sum')\n",
    ")\n",
    "print(grouped)\n"
   ]
  },
  {
   "cell_type": "code",
   "execution_count": 184,
   "id": "9bb459eb-f31b-4d7a-9326-2287b5eb3f23",
   "metadata": {},
   "outputs": [
    {
     "name": "stdout",
     "output_type": "stream",
     "text": [
      "  Department  Salary  Bonus  Dept_Avg_Salary\n",
      "0         HR   50000   5000          54000.0\n",
      "1         IT   60000   7000          62500.0\n",
      "2    Finance   55000   4000          55000.0\n",
      "3         HR   58000   6000          54000.0\n",
      "4         IT   65000   8000          62500.0\n"
     ]
    }
   ],
   "source": [
    "# Calculate the department average salary and add as a new column\n",
    "df['Dept_Avg_Salary'] = df.groupby('Department')['Salary'].transform('mean')\n",
    "print(df)\n"
   ]
  },
  {
   "cell_type": "code",
   "execution_count": null,
   "id": "efb0a9eb-9810-4123-9b17-56f0a5b42973",
   "metadata": {},
   "outputs": [],
   "source": []
  }
 ],
 "metadata": {
  "kernelspec": {
   "display_name": "Python 3 (ipykernel)",
   "language": "python",
   "name": "python3"
  },
  "language_info": {
   "codemirror_mode": {
    "name": "ipython",
    "version": 3
   },
   "file_extension": ".py",
   "mimetype": "text/x-python",
   "name": "python",
   "nbconvert_exporter": "python",
   "pygments_lexer": "ipython3",
   "version": "3.12.4"
  }
 },
 "nbformat": 4,
 "nbformat_minor": 5
}
