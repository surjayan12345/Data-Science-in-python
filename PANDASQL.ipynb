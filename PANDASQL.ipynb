{
 "cells": [
  {
   "cell_type": "code",
   "execution_count": 1,
   "id": "4620a796-bc8b-4964-b826-ab3e86bb89fc",
   "metadata": {},
   "outputs": [],
   "source": [
    "import pandas as pd"
   ]
  },
  {
   "cell_type": "code",
   "execution_count": 3,
   "id": "55900a20-d6d6-42cc-b474-d7f98d3ab399",
   "metadata": {},
   "outputs": [],
   "source": [
    "df = pd.DataFrame({\n",
    "    'Name': ['Alice', 'Bob', 'Charlie'],\n",
    "    'Age': [25, 30, 35],\n",
    "    'City': ['New York', 'Los Angeles', 'Chicago']\n",
    "})"
   ]
  },
  {
   "cell_type": "code",
   "execution_count": 5,
   "id": "acc4ade0-7ffd-470c-83c3-ccd4be640cd1",
   "metadata": {},
   "outputs": [
    {
     "data": {
      "text/html": [
       "<div>\n",
       "<style scoped>\n",
       "    .dataframe tbody tr th:only-of-type {\n",
       "        vertical-align: middle;\n",
       "    }\n",
       "\n",
       "    .dataframe tbody tr th {\n",
       "        vertical-align: top;\n",
       "    }\n",
       "\n",
       "    .dataframe thead th {\n",
       "        text-align: right;\n",
       "    }\n",
       "</style>\n",
       "<table border=\"1\" class=\"dataframe\">\n",
       "  <thead>\n",
       "    <tr style=\"text-align: right;\">\n",
       "      <th></th>\n",
       "      <th>Name</th>\n",
       "      <th>Age</th>\n",
       "      <th>City</th>\n",
       "    </tr>\n",
       "  </thead>\n",
       "  <tbody>\n",
       "    <tr>\n",
       "      <th>0</th>\n",
       "      <td>Alice</td>\n",
       "      <td>25</td>\n",
       "      <td>New York</td>\n",
       "    </tr>\n",
       "    <tr>\n",
       "      <th>1</th>\n",
       "      <td>Bob</td>\n",
       "      <td>30</td>\n",
       "      <td>Los Angeles</td>\n",
       "    </tr>\n",
       "    <tr>\n",
       "      <th>2</th>\n",
       "      <td>Charlie</td>\n",
       "      <td>35</td>\n",
       "      <td>Chicago</td>\n",
       "    </tr>\n",
       "  </tbody>\n",
       "</table>\n",
       "</div>"
      ],
      "text/plain": [
       "      Name  Age         City\n",
       "0    Alice   25     New York\n",
       "1      Bob   30  Los Angeles\n",
       "2  Charlie   35      Chicago"
      ]
     },
     "execution_count": 5,
     "metadata": {},
     "output_type": "execute_result"
    }
   ],
   "source": [
    "df"
   ]
  },
  {
   "cell_type": "code",
   "execution_count": 7,
   "id": "0ac810d2-a88a-407c-8e2a-58d10dca870b",
   "metadata": {},
   "outputs": [
    {
     "data": {
      "text/html": [
       "<div>\n",
       "<style scoped>\n",
       "    .dataframe tbody tr th:only-of-type {\n",
       "        vertical-align: middle;\n",
       "    }\n",
       "\n",
       "    .dataframe tbody tr th {\n",
       "        vertical-align: top;\n",
       "    }\n",
       "\n",
       "    .dataframe thead th {\n",
       "        text-align: right;\n",
       "    }\n",
       "</style>\n",
       "<table border=\"1\" class=\"dataframe\">\n",
       "  <thead>\n",
       "    <tr style=\"text-align: right;\">\n",
       "      <th></th>\n",
       "      <th>Name</th>\n",
       "      <th>City</th>\n",
       "    </tr>\n",
       "  </thead>\n",
       "  <tbody>\n",
       "    <tr>\n",
       "      <th>0</th>\n",
       "      <td>Alice</td>\n",
       "      <td>New York</td>\n",
       "    </tr>\n",
       "    <tr>\n",
       "      <th>1</th>\n",
       "      <td>Bob</td>\n",
       "      <td>Los Angeles</td>\n",
       "    </tr>\n",
       "    <tr>\n",
       "      <th>2</th>\n",
       "      <td>Charlie</td>\n",
       "      <td>Chicago</td>\n",
       "    </tr>\n",
       "  </tbody>\n",
       "</table>\n",
       "</div>"
      ],
      "text/plain": [
       "      Name         City\n",
       "0    Alice     New York\n",
       "1      Bob  Los Angeles\n",
       "2  Charlie      Chicago"
      ]
     },
     "execution_count": 7,
     "metadata": {},
     "output_type": "execute_result"
    }
   ],
   "source": [
    "df[['Name', 'City']]"
   ]
  },
  {
   "cell_type": "code",
   "execution_count": 9,
   "id": "b8d09ba5-0a0f-4d56-8f91-0b9057cc4bc2",
   "metadata": {},
   "outputs": [
    {
     "name": "stdout",
     "output_type": "stream",
     "text": [
      "      Name  Age         City\n",
      "1      Bob   30  Los Angeles\n",
      "2  Charlie   35      Chicago\n"
     ]
    }
   ],
   "source": [
    "# Filter rows where Age > 25\n",
    "filtered_df = df[df['Age'] > 25]\n",
    "print(filtered_df)"
   ]
  },
  {
   "cell_type": "code",
   "execution_count": 11,
   "id": "c80f22cc-e1f5-49a1-a39e-517969b0d07b",
   "metadata": {},
   "outputs": [
    {
     "name": "stdout",
     "output_type": "stream",
     "text": [
      "      Name  Age         City\n",
      "1      Bob   30  Los Angeles\n",
      "2  Charlie   35      Chicago\n"
     ]
    }
   ],
   "source": [
    "# Using query for a more SQL-like syntax\n",
    "filtered_df_query = df.query('Age > 25')\n",
    "print(filtered_df_query)"
   ]
  },
  {
   "cell_type": "code",
   "execution_count": 13,
   "id": "ada927ca-40b9-4a53-be7b-d211e2be758e",
   "metadata": {},
   "outputs": [
    {
     "data": {
      "text/plain": [
       "1    30\n",
       "2    35\n",
       "Name: Age, dtype: int64"
      ]
     },
     "execution_count": 13,
     "metadata": {},
     "output_type": "execute_result"
    }
   ],
   "source": [
    "filtered_df_query['Age']"
   ]
  },
  {
   "cell_type": "code",
   "execution_count": 19,
   "id": "35853758-40a8-4a7b-af70-2f563b21f361",
   "metadata": {},
   "outputs": [
    {
     "name": "stdout",
     "output_type": "stream",
     "text": [
      "      Name  Age         City\n",
      "0    Alice   25     New York\n",
      "1      Bob   30  Los Angeles\n",
      "2  Charlie   35      Chicago\n"
     ]
    }
   ],
   "source": [
    "# Sort by Age in ascending order\n",
    "df_sorted = df.sort_values(by='Age', ascending=True)\n",
    "print(df_sorted)"
   ]
  },
  {
   "cell_type": "code",
   "execution_count": 21,
   "id": "efebcaea-499a-4194-9447-f8728c07c60a",
   "metadata": {},
   "outputs": [
    {
     "name": "stdout",
     "output_type": "stream",
     "text": [
      "      Name  Age         City\n",
      "2  Charlie   35      Chicago\n",
      "1      Bob   30  Los Angeles\n",
      "0    Alice   25     New York\n"
     ]
    }
   ],
   "source": [
    "# Sort by Age in descending order\n",
    "df_sorted_desc = df.sort_values(by='Age', ascending=False)\n",
    "print(df_sorted_desc)"
   ]
  },
  {
   "cell_type": "code",
   "execution_count": 23,
   "id": "eb4075cc-8f53-4d66-a62e-75046fdcba8d",
   "metadata": {},
   "outputs": [],
   "source": [
    "df = pd.DataFrame({\n",
    "    'Department': ['HR', 'IT', 'IT', 'HR', 'Finance'],\n",
    "    'Employee': ['Alice', 'Bob', 'Charlie', 'David', 'Eve'],\n",
    "    'Salary': [50000, 60000, 70000, 55000, 80000]\n",
    "})"
   ]
  },
  {
   "cell_type": "code",
   "execution_count": 27,
   "id": "ffa1e4c8-7062-476b-a030-23e4e6c08212",
   "metadata": {},
   "outputs": [],
   "source": [
    "# Group by Department and calculate average Salary\n",
    "grouped_df = df.groupby('Department')['Salary'].mean()"
   ]
  },
  {
   "cell_type": "code",
   "execution_count": 29,
   "id": "88fc0942-0b72-4f76-8546-4fb779c567e4",
   "metadata": {},
   "outputs": [
    {
     "data": {
      "text/plain": [
       "Department\n",
       "Finance    80000.0\n",
       "HR         52500.0\n",
       "IT         65000.0\n",
       "Name: Salary, dtype: float64"
      ]
     },
     "execution_count": 29,
     "metadata": {},
     "output_type": "execute_result"
    }
   ],
   "source": [
    "grouped_df"
   ]
  },
  {
   "cell_type": "code",
   "execution_count": 31,
   "id": "c6b70f2a-9405-4133-bb50-e69ddd04f584",
   "metadata": {},
   "outputs": [],
   "source": [
    "grouped_df = df.groupby('Department')['Salary'].mean().reset_index()"
   ]
  },
  {
   "cell_type": "code",
   "execution_count": 33,
   "id": "41314eec-f8b7-4a25-b9ff-3e9923b435ee",
   "metadata": {},
   "outputs": [
    {
     "data": {
      "text/html": [
       "<div>\n",
       "<style scoped>\n",
       "    .dataframe tbody tr th:only-of-type {\n",
       "        vertical-align: middle;\n",
       "    }\n",
       "\n",
       "    .dataframe tbody tr th {\n",
       "        vertical-align: top;\n",
       "    }\n",
       "\n",
       "    .dataframe thead th {\n",
       "        text-align: right;\n",
       "    }\n",
       "</style>\n",
       "<table border=\"1\" class=\"dataframe\">\n",
       "  <thead>\n",
       "    <tr style=\"text-align: right;\">\n",
       "      <th></th>\n",
       "      <th>Department</th>\n",
       "      <th>Salary</th>\n",
       "    </tr>\n",
       "  </thead>\n",
       "  <tbody>\n",
       "    <tr>\n",
       "      <th>0</th>\n",
       "      <td>Finance</td>\n",
       "      <td>80000.0</td>\n",
       "    </tr>\n",
       "    <tr>\n",
       "      <th>1</th>\n",
       "      <td>HR</td>\n",
       "      <td>52500.0</td>\n",
       "    </tr>\n",
       "    <tr>\n",
       "      <th>2</th>\n",
       "      <td>IT</td>\n",
       "      <td>65000.0</td>\n",
       "    </tr>\n",
       "  </tbody>\n",
       "</table>\n",
       "</div>"
      ],
      "text/plain": [
       "  Department   Salary\n",
       "0    Finance  80000.0\n",
       "1         HR  52500.0\n",
       "2         IT  65000.0"
      ]
     },
     "execution_count": 33,
     "metadata": {},
     "output_type": "execute_result"
    }
   ],
   "source": [
    "grouped_df"
   ]
  },
  {
   "cell_type": "code",
   "execution_count": 35,
   "id": "41f51fb1-5d64-4e0c-baac-c70ad3694e3c",
   "metadata": {},
   "outputs": [],
   "source": [
    "# Multiple aggregations\n",
    "agg_df = df.groupby('Department').agg(\n",
    "    Avg_Salary=('Salary', 'mean'),\n",
    "    Total_Salary=('Salary', 'sum')\n",
    ").reset_index()"
   ]
  },
  {
   "cell_type": "code",
   "execution_count": 37,
   "id": "9c22ba97-0a44-4e0e-a5f0-4fb30b7beef0",
   "metadata": {},
   "outputs": [
    {
     "data": {
      "text/html": [
       "<div>\n",
       "<style scoped>\n",
       "    .dataframe tbody tr th:only-of-type {\n",
       "        vertical-align: middle;\n",
       "    }\n",
       "\n",
       "    .dataframe tbody tr th {\n",
       "        vertical-align: top;\n",
       "    }\n",
       "\n",
       "    .dataframe thead th {\n",
       "        text-align: right;\n",
       "    }\n",
       "</style>\n",
       "<table border=\"1\" class=\"dataframe\">\n",
       "  <thead>\n",
       "    <tr style=\"text-align: right;\">\n",
       "      <th></th>\n",
       "      <th>Department</th>\n",
       "      <th>Avg_Salary</th>\n",
       "      <th>Total_Salary</th>\n",
       "    </tr>\n",
       "  </thead>\n",
       "  <tbody>\n",
       "    <tr>\n",
       "      <th>0</th>\n",
       "      <td>Finance</td>\n",
       "      <td>80000.0</td>\n",
       "      <td>80000</td>\n",
       "    </tr>\n",
       "    <tr>\n",
       "      <th>1</th>\n",
       "      <td>HR</td>\n",
       "      <td>52500.0</td>\n",
       "      <td>105000</td>\n",
       "    </tr>\n",
       "    <tr>\n",
       "      <th>2</th>\n",
       "      <td>IT</td>\n",
       "      <td>65000.0</td>\n",
       "      <td>130000</td>\n",
       "    </tr>\n",
       "  </tbody>\n",
       "</table>\n",
       "</div>"
      ],
      "text/plain": [
       "  Department  Avg_Salary  Total_Salary\n",
       "0    Finance     80000.0         80000\n",
       "1         HR     52500.0        105000\n",
       "2         IT     65000.0        130000"
      ]
     },
     "execution_count": 37,
     "metadata": {},
     "output_type": "execute_result"
    }
   ],
   "source": [
    "agg_df"
   ]
  },
  {
   "cell_type": "code",
   "execution_count": 39,
   "id": "bb671158-5e98-438e-b67c-50fde5d17672",
   "metadata": {},
   "outputs": [],
   "source": [
    "# Sample data\n",
    "df1 = pd.DataFrame({'ID': [1, 2, 3], 'Name': ['Alice', 'Bob', 'Charlie']})\n",
    "df2 = pd.DataFrame({'ID': [1, 2, 4], 'Age': [25, 30, 35]})"
   ]
  },
  {
   "cell_type": "code",
   "execution_count": 41,
   "id": "1da43caf-8fd5-4a2a-9e38-c322e345ce3d",
   "metadata": {},
   "outputs": [
    {
     "name": "stdout",
     "output_type": "stream",
     "text": [
      "   ID   Name  Age\n",
      "0   1  Alice   25\n",
      "1   2    Bob   30\n"
     ]
    }
   ],
   "source": [
    "# Inner join (default)\n",
    "merged_inner = pd.merge(df1, df2, on='ID', how='inner')\n",
    "print(merged_inner)"
   ]
  },
  {
   "cell_type": "code",
   "execution_count": 43,
   "id": "2355d632-3ed1-47bf-b499-6941b6697934",
   "metadata": {},
   "outputs": [
    {
     "name": "stdout",
     "output_type": "stream",
     "text": [
      "   ID     Name   Age\n",
      "0   1    Alice  25.0\n",
      "1   2      Bob  30.0\n",
      "2   3  Charlie   NaN\n"
     ]
    }
   ],
   "source": [
    "# Left join\n",
    "merged_left = pd.merge(df1, df2, on='ID', how='left')\n",
    "print(merged_left)"
   ]
  },
  {
   "cell_type": "code",
   "execution_count": 45,
   "id": "7ef3c4ed-8b65-487c-becf-c16532decb3c",
   "metadata": {},
   "outputs": [
    {
     "name": "stdout",
     "output_type": "stream",
     "text": [
      "   ID   Name  Age\n",
      "0   1  Alice   25\n",
      "1   2    Bob   30\n",
      "2   4    NaN   35\n"
     ]
    }
   ],
   "source": [
    "# Right join\n",
    "merged_right = pd.merge(df1, df2, on='ID', how='right')\n",
    "print(merged_right)"
   ]
  },
  {
   "cell_type": "code",
   "execution_count": 47,
   "id": "b405ae0d-290e-478f-b8f6-b071390032ca",
   "metadata": {},
   "outputs": [
    {
     "name": "stdout",
     "output_type": "stream",
     "text": [
      "   ID     Name   Age\n",
      "0   1    Alice  25.0\n",
      "1   2      Bob  30.0\n",
      "2   3  Charlie   NaN\n",
      "3   4      NaN  35.0\n"
     ]
    }
   ],
   "source": [
    "# Outer join\n",
    "merged_outer = pd.merge(df1, df2, on='ID', how='outer')\n",
    "print(merged_outer)"
   ]
  },
  {
   "cell_type": "code",
   "execution_count": 49,
   "id": "5cca2aea-412f-4879-bb92-41de65fc99f2",
   "metadata": {},
   "outputs": [
    {
     "name": "stdout",
     "output_type": "stream",
     "text": [
      "   ID     Name\n",
      "0   1    Alice\n",
      "1   2      Bob\n",
      "2   3  Charlie\n",
      "3   5    David\n",
      "4   6      Eve\n"
     ]
    }
   ],
   "source": [
    "# Vertical concatenation\n",
    "df3 = pd.DataFrame({'ID': [5, 6], 'Name': ['David', 'Eve']})\n",
    "concat_df = pd.concat([df1, df3], ignore_index=True)\n",
    "print(concat_df)"
   ]
  },
  {
   "cell_type": "code",
   "execution_count": 51,
   "id": "6e6f2675-1fa4-40cd-8392-027bf0d79fb8",
   "metadata": {},
   "outputs": [
    {
     "name": "stdout",
     "output_type": "stream",
     "text": [
      "   ID     Name  ID  Age\n",
      "0   1    Alice   1   25\n",
      "1   2      Bob   2   30\n",
      "2   3  Charlie   4   35\n"
     ]
    }
   ],
   "source": [
    "# Horizontal concatenation\n",
    "df_horizontal = pd.concat([df1, df2], axis=1)\n",
    "print(df_horizontal)"
   ]
  },
  {
   "cell_type": "code",
   "execution_count": 53,
   "id": "7191e08b-9e02-480a-8637-c5c3a439d07c",
   "metadata": {},
   "outputs": [],
   "source": [
    "df = pd.DataFrame({'Sales': [200, 300, 400, 500, 600]})"
   ]
  },
  {
   "cell_type": "code",
   "execution_count": 61,
   "id": "98dc5bf8-5708-4111-ac85-80bbbfbe1dc6",
   "metadata": {},
   "outputs": [
    {
     "name": "stdout",
     "output_type": "stream",
     "text": [
      "   Sales  Rolling_Avg\n",
      "0    200          NaN\n",
      "1    300          NaN\n",
      "2    400        300.0\n",
      "3    500        400.0\n",
      "4    600        500.0\n"
     ]
    }
   ],
   "source": [
    "# Calculate rolling average for last 3 rows\n",
    "df['Rolling_Avg'] = df['Sales'].rolling(window=3).mean()\n",
    "print(df)"
   ]
  },
  {
   "cell_type": "code",
   "execution_count": 63,
   "id": "85d0548b-4040-4b76-822a-4fe2bf79b4ee",
   "metadata": {},
   "outputs": [
    {
     "name": "stdout",
     "output_type": "stream",
     "text": [
      "   Sales  Rolling_Avg  Expanding_Mean\n",
      "0    200          NaN           200.0\n",
      "1    300          NaN           250.0\n",
      "2    400        300.0           300.0\n",
      "3    500        400.0           350.0\n",
      "4    600        500.0           400.0\n"
     ]
    }
   ],
   "source": [
    "# Expanding mean (cumulative average)\n",
    "df['Expanding_Mean'] = df['Sales'].expanding().mean()\n",
    "print(df)"
   ]
  },
  {
   "cell_type": "code",
   "execution_count": 65,
   "id": "6266017b-fb12-4edc-a590-30415959c6d0",
   "metadata": {},
   "outputs": [
    {
     "name": "stdout",
     "output_type": "stream",
     "text": [
      "   Sales  Rolling_Avg  Expanding_Mean\n",
      "3    500        400.0           350.0\n",
      "4    600        500.0           400.0\n"
     ]
    }
   ],
   "source": [
    "# Filter using query\n",
    "high_salary_df = df.query('Sales > 400')\n",
    "print(high_salary_df)\n"
   ]
  },
  {
   "cell_type": "code",
   "execution_count": 69,
   "id": "d7597acb-ff32-46df-a20a-fde18b28e46c",
   "metadata": {},
   "outputs": [
    {
     "name": "stdout",
     "output_type": "stream",
     "text": [
      "Collecting pandasql\n",
      "  Downloading pandasql-0.7.3.tar.gz (26 kB)\n",
      "  Preparing metadata (setup.py): started\n",
      "  Preparing metadata (setup.py): finished with status 'done'\n",
      "Requirement already satisfied: numpy in c:\\users\\surjayandutta\\anaconda3\\lib\\site-packages (from pandasql) (1.26.4)\n",
      "Requirement already satisfied: pandas in c:\\users\\surjayandutta\\anaconda3\\lib\\site-packages (from pandasql) (2.2.2)\n",
      "Requirement already satisfied: sqlalchemy in c:\\users\\surjayandutta\\anaconda3\\lib\\site-packages (from pandasql) (2.0.30)\n",
      "Requirement already satisfied: python-dateutil>=2.8.2 in c:\\users\\surjayandutta\\anaconda3\\lib\\site-packages (from pandas->pandasql) (2.9.0.post0)\n",
      "Requirement already satisfied: pytz>=2020.1 in c:\\users\\surjayandutta\\anaconda3\\lib\\site-packages (from pandas->pandasql) (2024.1)\n",
      "Requirement already satisfied: tzdata>=2022.7 in c:\\users\\surjayandutta\\anaconda3\\lib\\site-packages (from pandas->pandasql) (2023.3)\n",
      "Requirement already satisfied: typing-extensions>=4.6.0 in c:\\users\\surjayandutta\\anaconda3\\lib\\site-packages (from sqlalchemy->pandasql) (4.11.0)\n",
      "Requirement already satisfied: greenlet!=0.4.17 in c:\\users\\surjayandutta\\anaconda3\\lib\\site-packages (from sqlalchemy->pandasql) (3.0.1)\n",
      "Requirement already satisfied: six>=1.5 in c:\\users\\surjayandutta\\anaconda3\\lib\\site-packages (from python-dateutil>=2.8.2->pandas->pandasql) (1.16.0)\n",
      "Building wheels for collected packages: pandasql\n",
      "  Building wheel for pandasql (setup.py): started\n",
      "  Building wheel for pandasql (setup.py): finished with status 'done'\n",
      "  Created wheel for pandasql: filename=pandasql-0.7.3-py3-none-any.whl size=26801 sha256=a6992f8758aa2f2bb3e315681c23b0127ffe1c14d0bd678251c0acc70cb5080d\n",
      "  Stored in directory: c:\\users\\surjayandutta\\appdata\\local\\pip\\cache\\wheels\\15\\a1\\e7\\6f92f295b5272ae5c02365e6b8fa19cb93f16a537090a1cf27\n",
      "Successfully built pandasql\n",
      "Installing collected packages: pandasql\n",
      "Successfully installed pandasql-0.7.3\n"
     ]
    }
   ],
   "source": [
    "!pip install pandasql"
   ]
  },
  {
   "cell_type": "code",
   "execution_count": 71,
   "id": "bb1bd99e-afcd-4fb9-8ee1-d943988aa711",
   "metadata": {},
   "outputs": [],
   "source": [
    "df = pd.DataFrame({\n",
    "    'Name': ['Alice', 'Bob', 'Charlie'],\n",
    "    'Age': [25, 30, 35],\n",
    "    'City': ['New York', 'Los Angeles', 'Chicago']\n",
    "})"
   ]
  },
  {
   "cell_type": "code",
   "execution_count": 75,
   "id": "57b6492d-fb89-46c9-8dfc-7db7c7593664",
   "metadata": {},
   "outputs": [],
   "source": [
    "import pandasql as ps"
   ]
  },
  {
   "cell_type": "code",
   "execution_count": 77,
   "id": "40c62d96-eef5-422e-8ac9-cb5c074db9df",
   "metadata": {},
   "outputs": [],
   "source": [
    "query = \"SELECT * FROM df WHERE Age > 25\"\n",
    "result = ps.sqldf(query, locals())"
   ]
  },
  {
   "cell_type": "code",
   "execution_count": 79,
   "id": "333331f8-64ae-48f9-b4c7-e728f60949eb",
   "metadata": {},
   "outputs": [
    {
     "data": {
      "text/html": [
       "<div>\n",
       "<style scoped>\n",
       "    .dataframe tbody tr th:only-of-type {\n",
       "        vertical-align: middle;\n",
       "    }\n",
       "\n",
       "    .dataframe tbody tr th {\n",
       "        vertical-align: top;\n",
       "    }\n",
       "\n",
       "    .dataframe thead th {\n",
       "        text-align: right;\n",
       "    }\n",
       "</style>\n",
       "<table border=\"1\" class=\"dataframe\">\n",
       "  <thead>\n",
       "    <tr style=\"text-align: right;\">\n",
       "      <th></th>\n",
       "      <th>Name</th>\n",
       "      <th>Age</th>\n",
       "      <th>City</th>\n",
       "    </tr>\n",
       "  </thead>\n",
       "  <tbody>\n",
       "    <tr>\n",
       "      <th>0</th>\n",
       "      <td>Bob</td>\n",
       "      <td>30</td>\n",
       "      <td>Los Angeles</td>\n",
       "    </tr>\n",
       "    <tr>\n",
       "      <th>1</th>\n",
       "      <td>Charlie</td>\n",
       "      <td>35</td>\n",
       "      <td>Chicago</td>\n",
       "    </tr>\n",
       "  </tbody>\n",
       "</table>\n",
       "</div>"
      ],
      "text/plain": [
       "      Name  Age         City\n",
       "0      Bob   30  Los Angeles\n",
       "1  Charlie   35      Chicago"
      ]
     },
     "execution_count": 79,
     "metadata": {},
     "output_type": "execute_result"
    }
   ],
   "source": [
    "result"
   ]
  },
  {
   "cell_type": "code",
   "execution_count": 81,
   "id": "b4da93b8-5470-4dd6-85e5-a17761261d3d",
   "metadata": {},
   "outputs": [
    {
     "name": "stdout",
     "output_type": "stream",
     "text": [
      "      Name  Age         City\n",
      "0      Bob   30  Los Angeles\n",
      "1  Charlie   35      Chicago\n"
     ]
    }
   ],
   "source": [
    "print(result)"
   ]
  },
  {
   "cell_type": "code",
   "execution_count": 83,
   "id": "63995960-ad8f-4cb9-98a4-ba7df814e8b3",
   "metadata": {},
   "outputs": [],
   "source": [
    "df = pd.DataFrame({\n",
    "    'Employee': ['Alice', 'Bob', 'Charlie', 'David'],\n",
    "    'Department': ['HR', 'IT', 'Finance', 'IT'],\n",
    "    'Salary': [60000, 80000, 70000, 90000],\n",
    "    'Age': [34, 28, 45, 31]\n",
    "})\n"
   ]
  },
  {
   "cell_type": "code",
   "execution_count": 89,
   "id": "56f96db1-3fa7-43eb-871d-5d0bbc5de144",
   "metadata": {},
   "outputs": [],
   "source": [
    "# Filter employees in IT or Finance department with a salary > 75000\n",
    "filtered_df = df.query(\"Department in ['IT', 'Finance'] and Salary > 75000\")"
   ]
  },
  {
   "cell_type": "code",
   "execution_count": 91,
   "id": "05f92242-ea20-47e1-81c5-b4dae5e49884",
   "metadata": {},
   "outputs": [
    {
     "name": "stdout",
     "output_type": "stream",
     "text": [
      "  Employee Department  Salary  Age\n",
      "1      Bob         IT   80000   28\n",
      "3    David         IT   90000   31\n"
     ]
    }
   ],
   "source": [
    "print(filtered_df)"
   ]
  },
  {
   "cell_type": "code",
   "execution_count": 95,
   "id": "4ef9b705-30a1-4577-b107-0245f513cf58",
   "metadata": {},
   "outputs": [
    {
     "name": "stdout",
     "output_type": "stream",
     "text": [
      "  Department Region  Avg_Salary  Total_Salary\n",
      "0    Finance   East     55000.0         55000\n",
      "1    Finance   West     80000.0         80000\n",
      "2         HR   East     54000.0        108000\n",
      "3         IT   West     65000.0        130000\n"
     ]
    }
   ],
   "source": [
    "# Sample data\n",
    "df = pd.DataFrame({\n",
    "    'Department': ['HR', 'IT', 'IT', 'Finance', 'Finance', 'HR'],\n",
    "    'Region': ['East', 'West', 'West', 'East', 'West', 'East'],\n",
    "    'Salary': [50000, 60000, 70000, 55000, 80000, 58000]\n",
    "})\n",
    "\n",
    "# Group by Department and Region and calculate mean and sum for Salary\n",
    "grouped_df = df.groupby(['Department', 'Region']).agg(\n",
    "    Avg_Salary=('Salary', 'mean'),\n",
    "    Total_Salary=('Salary', 'sum')\n",
    ").reset_index()\n",
    "print(grouped_df)\n"
   ]
  },
  {
   "cell_type": "code",
   "execution_count": 99,
   "id": "80022229-30a5-4c05-ad0f-8dc09a6a0c49",
   "metadata": {},
   "outputs": [
    {
     "name": "stdout",
     "output_type": "stream",
     "text": [
      "Year           2021     2022\n",
      "Department                  \n",
      "Finance         NaN  70000.0\n",
      "HR          52500.0      NaN\n",
      "IT          60000.0  65000.0\n"
     ]
    }
   ],
   "source": [
    "import pandas as pd\n",
    "\n",
    "# Sample data\n",
    "df = pd.DataFrame({\n",
    "    'Department': ['HR', 'IT', 'IT', 'Finance', 'HR'],\n",
    "    'Year': [2021, 2021, 2022, 2022, 2021],\n",
    "    'Salary': [50000, 60000, 65000, 70000, 55000]\n",
    "})\n",
    "\n",
    "# Pivot table with aggregation (e.g., using mean)\n",
    "pivoted_df = df.pivot_table(index='Department', columns='Year', values='Salary', aggfunc='mean')\n",
    "print(pivoted_df)"
   ]
  },
  {
   "cell_type": "code",
   "execution_count": 101,
   "id": "490485a4-90d2-4dd9-8f28-745db77c5a9d",
   "metadata": {},
   "outputs": [
    {
     "name": "stdout",
     "output_type": "stream",
     "text": [
      "  Department  Year   Salary\n",
      "0    Finance  2021      NaN\n",
      "1         HR  2021  52500.0\n",
      "2         IT  2021  60000.0\n",
      "3    Finance  2022  70000.0\n",
      "4         HR  2022      NaN\n",
      "5         IT  2022  65000.0\n"
     ]
    }
   ],
   "source": [
    "# Unpivot the DataFrame back\n",
    "unpivoted_df = pivoted_df.reset_index().melt(id_vars='Department', var_name='Year', value_name='Salary')\n",
    "print(unpivoted_df)\n"
   ]
  },
  {
   "cell_type": "code",
   "execution_count": 107,
   "id": "be090c4d-0968-464f-b5ae-16ea143e8ea8",
   "metadata": {},
   "outputs": [],
   "source": [
    "# Sample data with missing values\n",
    "df = pd.DataFrame({\n",
    "    'Employee': ['Alice', 'Bob', 'Charlie'],\n",
    "    'Salary': [50000, None, 70000],\n",
    "    'Bonus': [5000, 8000, None]\n",
    "})\n",
    "\n",
    "# Use fillna to replace missing Salary values\n",
    "df['Salary'] = df['Salary'].fillna(60000)\n",
    "\n"
   ]
  },
  {
   "cell_type": "code",
   "execution_count": 109,
   "id": "129dbcd5-d464-452c-a583-58ed1b0b9c1f",
   "metadata": {},
   "outputs": [
    {
     "name": "stdout",
     "output_type": "stream",
     "text": [
      "  Employee   Salary   Bonus\n",
      "0    Alice  50000.0  5000.0\n",
      "1      Bob  60000.0  8000.0\n",
      "2  Charlie  70000.0     NaN\n"
     ]
    }
   ],
   "source": [
    "print(df)"
   ]
  },
  {
   "cell_type": "code",
   "execution_count": 111,
   "id": "93fb155d-72b2-4d11-9c20-cf95d63d4ba5",
   "metadata": {},
   "outputs": [],
   "source": [
    "# Use combine_first to replace NaN in Bonus with a default value\n",
    "df['Bonus'] = df['Bonus'].combine_first(pd.Series([3000, 3000, 3000]))"
   ]
  },
  {
   "cell_type": "code",
   "execution_count": 113,
   "id": "78ac9f45-b7d6-4932-ba2e-53926a1e087d",
   "metadata": {},
   "outputs": [
    {
     "data": {
      "text/html": [
       "<div>\n",
       "<style scoped>\n",
       "    .dataframe tbody tr th:only-of-type {\n",
       "        vertical-align: middle;\n",
       "    }\n",
       "\n",
       "    .dataframe tbody tr th {\n",
       "        vertical-align: top;\n",
       "    }\n",
       "\n",
       "    .dataframe thead th {\n",
       "        text-align: right;\n",
       "    }\n",
       "</style>\n",
       "<table border=\"1\" class=\"dataframe\">\n",
       "  <thead>\n",
       "    <tr style=\"text-align: right;\">\n",
       "      <th></th>\n",
       "      <th>Employee</th>\n",
       "      <th>Salary</th>\n",
       "      <th>Bonus</th>\n",
       "    </tr>\n",
       "  </thead>\n",
       "  <tbody>\n",
       "    <tr>\n",
       "      <th>0</th>\n",
       "      <td>Alice</td>\n",
       "      <td>50000.0</td>\n",
       "      <td>5000.0</td>\n",
       "    </tr>\n",
       "    <tr>\n",
       "      <th>1</th>\n",
       "      <td>Bob</td>\n",
       "      <td>60000.0</td>\n",
       "      <td>8000.0</td>\n",
       "    </tr>\n",
       "    <tr>\n",
       "      <th>2</th>\n",
       "      <td>Charlie</td>\n",
       "      <td>70000.0</td>\n",
       "      <td>3000.0</td>\n",
       "    </tr>\n",
       "  </tbody>\n",
       "</table>\n",
       "</div>"
      ],
      "text/plain": [
       "  Employee   Salary   Bonus\n",
       "0    Alice  50000.0  5000.0\n",
       "1      Bob  60000.0  8000.0\n",
       "2  Charlie  70000.0  3000.0"
      ]
     },
     "execution_count": 113,
     "metadata": {},
     "output_type": "execute_result"
    }
   ],
   "source": [
    "df"
   ]
  },
  {
   "cell_type": "code",
   "execution_count": 115,
   "id": "faab1113-dd27-4881-ba61-f67a64269a45",
   "metadata": {},
   "outputs": [
    {
     "name": "stdout",
     "output_type": "stream",
     "text": [
      "  Department Employee  Salary Salary_Category\n",
      "0         HR    Alice   50000             Low\n",
      "1         IT      Bob   60000             Low\n",
      "2    Finance  Charlie   70000            High\n",
      "3         IT    David   80000            High\n"
     ]
    }
   ],
   "source": [
    "import numpy as np\n",
    "\n",
    "# Sample data\n",
    "df = pd.DataFrame({\n",
    "    'Department': ['HR', 'IT', 'Finance', 'IT'],\n",
    "    'Employee': ['Alice', 'Bob', 'Charlie', 'David'],\n",
    "    'Salary': [50000, 60000, 70000, 80000]\n",
    "})\n",
    "\n",
    "# Add a new column with conditional values\n",
    "df['Salary_Category'] = np.where(df['Salary'] >= 70000, 'High', 'Low')\n",
    "print(df)\n"
   ]
  },
  {
   "cell_type": "code",
   "execution_count": 117,
   "id": "17093025-8457-449b-81cf-a3b41d76a289",
   "metadata": {},
   "outputs": [
    {
     "name": "stdout",
     "output_type": "stream",
     "text": [
      "  Department Employee  Salary Salary_Category\n",
      "0         HR    Alice   50000             Low\n",
      "1         IT      Bob   60000          Medium\n",
      "2    Finance  Charlie   70000            High\n",
      "3         IT    David   80000            High\n"
     ]
    }
   ],
   "source": [
    "df['Salary_Category'] = df['Salary'].apply(lambda x: 'High' if x >= 70000 else ('Medium' if x >= 60000 else 'Low'))\n",
    "print(df)\n"
   ]
  },
  {
   "cell_type": "code",
   "execution_count": 119,
   "id": "8d9d7e53-ec90-47cf-b310-dfc98fbd132c",
   "metadata": {},
   "outputs": [],
   "source": [
    "\n",
    "df = pd.DataFrame({\n",
    "    'Employee': ['Alice', 'Bob', 'Charlie', 'David'],\n",
    "    'Department': ['HR', 'IT', 'Finance', 'IT'],\n",
    "    'Salary': [50000, 70000, 90000, 40000]\n",
    "})\n",
    "\n",
    "# Define conditions and corresponding choices\n",
    "conditions = [\n",
    "    (df['Salary'] < 50000),\n",
    "    (df['Salary'] >= 50000) & (df['Salary'] < 80000),\n",
    "    (df['Salary'] >= 80000)\n",
    "]\n",
    "choices = ['Low', 'Medium', 'High']\n",
    "\n",
    "# Create new column with conditional values\n",
    "df['Salary_Category'] = np.select(conditions, choices, default='Unknown')\n"
   ]
  },
  {
   "cell_type": "code",
   "execution_count": 121,
   "id": "5acab7af-4e14-490c-8abc-0e6aba11af31",
   "metadata": {},
   "outputs": [
    {
     "name": "stdout",
     "output_type": "stream",
     "text": [
      "  Employee Department  Salary Salary_Category\n",
      "0    Alice         HR   50000          Medium\n",
      "1      Bob         IT   70000          Medium\n",
      "2  Charlie    Finance   90000            High\n",
      "3    David         IT   40000             Low\n"
     ]
    }
   ],
   "source": [
    "print(df)"
   ]
  },
  {
   "cell_type": "code",
   "execution_count": 123,
   "id": "a1d261c2-db85-42a1-afa6-7a7486f8ba74",
   "metadata": {},
   "outputs": [],
   "source": [
    "\n",
    "df = pd.DataFrame({\n",
    "    'Employee': ['Alice', 'Bob', 'Charlie', 'David'],\n",
    "    'Department': ['HR', 'IT', 'Finance', 'IT'],\n",
    "    'Salary': [50000, 70000, 90000, 40000]\n",
    "})\n",
    "\n",
    "# Derived table example: Get average salary by department\n",
    "average_salary_df = df.groupby('Department')['Salary'].mean().reset_index()\n",
    "average_salary_df.columns = ['Department', 'Avg_Salary']\n",
    "\n",
    "# Now join the original table with this derived table to get each employee's salary relative to their department average\n",
    "df = pd.merge(df, average_salary_df, on='Department')\n",
    "df['Salary_vs_Avg'] = df['Salary'] - df['Avg_Salary']\n",
    "\n"
   ]
  },
  {
   "cell_type": "code",
   "execution_count": 125,
   "id": "edb86190-0f9a-4752-bb2c-13f8c8f98815",
   "metadata": {},
   "outputs": [
    {
     "data": {
      "text/html": [
       "<div>\n",
       "<style scoped>\n",
       "    .dataframe tbody tr th:only-of-type {\n",
       "        vertical-align: middle;\n",
       "    }\n",
       "\n",
       "    .dataframe tbody tr th {\n",
       "        vertical-align: top;\n",
       "    }\n",
       "\n",
       "    .dataframe thead th {\n",
       "        text-align: right;\n",
       "    }\n",
       "</style>\n",
       "<table border=\"1\" class=\"dataframe\">\n",
       "  <thead>\n",
       "    <tr style=\"text-align: right;\">\n",
       "      <th></th>\n",
       "      <th>Employee</th>\n",
       "      <th>Department</th>\n",
       "      <th>Salary</th>\n",
       "      <th>Avg_Salary</th>\n",
       "      <th>Salary_vs_Avg</th>\n",
       "    </tr>\n",
       "  </thead>\n",
       "  <tbody>\n",
       "    <tr>\n",
       "      <th>0</th>\n",
       "      <td>Alice</td>\n",
       "      <td>HR</td>\n",
       "      <td>50000</td>\n",
       "      <td>50000.0</td>\n",
       "      <td>0.0</td>\n",
       "    </tr>\n",
       "    <tr>\n",
       "      <th>1</th>\n",
       "      <td>Bob</td>\n",
       "      <td>IT</td>\n",
       "      <td>70000</td>\n",
       "      <td>55000.0</td>\n",
       "      <td>15000.0</td>\n",
       "    </tr>\n",
       "    <tr>\n",
       "      <th>2</th>\n",
       "      <td>Charlie</td>\n",
       "      <td>Finance</td>\n",
       "      <td>90000</td>\n",
       "      <td>90000.0</td>\n",
       "      <td>0.0</td>\n",
       "    </tr>\n",
       "    <tr>\n",
       "      <th>3</th>\n",
       "      <td>David</td>\n",
       "      <td>IT</td>\n",
       "      <td>40000</td>\n",
       "      <td>55000.0</td>\n",
       "      <td>-15000.0</td>\n",
       "    </tr>\n",
       "  </tbody>\n",
       "</table>\n",
       "</div>"
      ],
      "text/plain": [
       "  Employee Department  Salary  Avg_Salary  Salary_vs_Avg\n",
       "0    Alice         HR   50000     50000.0            0.0\n",
       "1      Bob         IT   70000     55000.0        15000.0\n",
       "2  Charlie    Finance   90000     90000.0            0.0\n",
       "3    David         IT   40000     55000.0       -15000.0"
      ]
     },
     "execution_count": 125,
     "metadata": {},
     "output_type": "execute_result"
    }
   ],
   "source": [
    "df"
   ]
  },
  {
   "cell_type": "code",
   "execution_count": 129,
   "id": "65d83a26-3562-4141-b993-30c0dbccf62c",
   "metadata": {},
   "outputs": [],
   "source": [
    "# Sample data\n",
    "df = pd.DataFrame({\n",
    "    'Employee': ['Alice', 'Bob', 'Charlie', 'David', 'Eve'],\n",
    "    'Department': ['HR', 'IT', 'Finance', 'IT', 'Finance'],\n",
    "    'Salary': [50000, 70000, 90000, 80000, 85000]\n",
    "})\n",
    "\n",
    "# Rank employees within each department by salary\n",
    "df['Rank'] = df.groupby('Department')['Salary'].rank(method='dense', ascending=False)\n",
    "\n",
    "\n"
   ]
  },
  {
   "cell_type": "code",
   "execution_count": 131,
   "id": "618c382c-759e-4949-a990-feb3dee0c1aa",
   "metadata": {},
   "outputs": [
    {
     "name": "stdout",
     "output_type": "stream",
     "text": [
      "  Employee Department  Salary  Rank\n",
      "0    Alice         HR   50000   1.0\n",
      "1      Bob         IT   70000   2.0\n",
      "2  Charlie    Finance   90000   1.0\n",
      "3    David         IT   80000   1.0\n",
      "4      Eve    Finance   85000   2.0\n"
     ]
    }
   ],
   "source": [
    "print(df)\n"
   ]
  },
  {
   "cell_type": "code",
   "execution_count": 133,
   "id": "f59fd373-bcac-4223-97f0-8245e7118323",
   "metadata": {},
   "outputs": [],
   "source": [
    "\n",
    "# Alternatively, ROW_NUMBER() behavior (no ties)\n",
    "df['Row_Number'] = df.groupby('Department')['Salary'].rank(method='first', ascending=False)"
   ]
  },
  {
   "cell_type": "code",
   "execution_count": 135,
   "id": "28e13fa8-76c2-4b37-b974-0da4c4181078",
   "metadata": {},
   "outputs": [
    {
     "data": {
      "text/html": [
       "<div>\n",
       "<style scoped>\n",
       "    .dataframe tbody tr th:only-of-type {\n",
       "        vertical-align: middle;\n",
       "    }\n",
       "\n",
       "    .dataframe tbody tr th {\n",
       "        vertical-align: top;\n",
       "    }\n",
       "\n",
       "    .dataframe thead th {\n",
       "        text-align: right;\n",
       "    }\n",
       "</style>\n",
       "<table border=\"1\" class=\"dataframe\">\n",
       "  <thead>\n",
       "    <tr style=\"text-align: right;\">\n",
       "      <th></th>\n",
       "      <th>Employee</th>\n",
       "      <th>Department</th>\n",
       "      <th>Salary</th>\n",
       "      <th>Rank</th>\n",
       "      <th>Row_Number</th>\n",
       "    </tr>\n",
       "  </thead>\n",
       "  <tbody>\n",
       "    <tr>\n",
       "      <th>0</th>\n",
       "      <td>Alice</td>\n",
       "      <td>HR</td>\n",
       "      <td>50000</td>\n",
       "      <td>1.0</td>\n",
       "      <td>1.0</td>\n",
       "    </tr>\n",
       "    <tr>\n",
       "      <th>1</th>\n",
       "      <td>Bob</td>\n",
       "      <td>IT</td>\n",
       "      <td>70000</td>\n",
       "      <td>2.0</td>\n",
       "      <td>2.0</td>\n",
       "    </tr>\n",
       "    <tr>\n",
       "      <th>2</th>\n",
       "      <td>Charlie</td>\n",
       "      <td>Finance</td>\n",
       "      <td>90000</td>\n",
       "      <td>1.0</td>\n",
       "      <td>1.0</td>\n",
       "    </tr>\n",
       "    <tr>\n",
       "      <th>3</th>\n",
       "      <td>David</td>\n",
       "      <td>IT</td>\n",
       "      <td>80000</td>\n",
       "      <td>1.0</td>\n",
       "      <td>1.0</td>\n",
       "    </tr>\n",
       "    <tr>\n",
       "      <th>4</th>\n",
       "      <td>Eve</td>\n",
       "      <td>Finance</td>\n",
       "      <td>85000</td>\n",
       "      <td>2.0</td>\n",
       "      <td>2.0</td>\n",
       "    </tr>\n",
       "  </tbody>\n",
       "</table>\n",
       "</div>"
      ],
      "text/plain": [
       "  Employee Department  Salary  Rank  Row_Number\n",
       "0    Alice         HR   50000   1.0         1.0\n",
       "1      Bob         IT   70000   2.0         2.0\n",
       "2  Charlie    Finance   90000   1.0         1.0\n",
       "3    David         IT   80000   1.0         1.0\n",
       "4      Eve    Finance   85000   2.0         2.0"
      ]
     },
     "execution_count": 135,
     "metadata": {},
     "output_type": "execute_result"
    }
   ],
   "source": [
    "df"
   ]
  },
  {
   "cell_type": "code",
   "execution_count": 137,
   "id": "d34f26f4-d4e4-4dad-915e-c70f058d8b34",
   "metadata": {},
   "outputs": [],
   "source": [
    "# Sample data\n",
    "df = pd.DataFrame({\n",
    "    'Employee': ['Alice', 'Bob', 'Charlie', 'David', 'Eve'],\n",
    "    'Department': ['HR', 'IT', 'Finance', 'IT', 'Finance'],\n",
    "    'Salary': [50000, 70000, 90000, 80000, 85000]\n",
    "})\n",
    "\n",
    "# Calculate the percentage of total department salary for each employee\n",
    "df['Dept_Total_Salary'] = df.groupby('Department')['Salary'].transform('sum')\n",
    "df['Salary_Percentage'] = df.apply(lambda x: (x['Salary'] / x['Dept_Total_Salary']) * 100, axis=1)"
   ]
  },
  {
   "cell_type": "code",
   "execution_count": 139,
   "id": "3250270a-8496-4cb9-9f9b-c75ea3f93e26",
   "metadata": {},
   "outputs": [
    {
     "data": {
      "text/html": [
       "<div>\n",
       "<style scoped>\n",
       "    .dataframe tbody tr th:only-of-type {\n",
       "        vertical-align: middle;\n",
       "    }\n",
       "\n",
       "    .dataframe tbody tr th {\n",
       "        vertical-align: top;\n",
       "    }\n",
       "\n",
       "    .dataframe thead th {\n",
       "        text-align: right;\n",
       "    }\n",
       "</style>\n",
       "<table border=\"1\" class=\"dataframe\">\n",
       "  <thead>\n",
       "    <tr style=\"text-align: right;\">\n",
       "      <th></th>\n",
       "      <th>Employee</th>\n",
       "      <th>Department</th>\n",
       "      <th>Salary</th>\n",
       "      <th>Dept_Total_Salary</th>\n",
       "      <th>Salary_Percentage</th>\n",
       "    </tr>\n",
       "  </thead>\n",
       "  <tbody>\n",
       "    <tr>\n",
       "      <th>0</th>\n",
       "      <td>Alice</td>\n",
       "      <td>HR</td>\n",
       "      <td>50000</td>\n",
       "      <td>50000</td>\n",
       "      <td>100.000000</td>\n",
       "    </tr>\n",
       "    <tr>\n",
       "      <th>1</th>\n",
       "      <td>Bob</td>\n",
       "      <td>IT</td>\n",
       "      <td>70000</td>\n",
       "      <td>150000</td>\n",
       "      <td>46.666667</td>\n",
       "    </tr>\n",
       "    <tr>\n",
       "      <th>2</th>\n",
       "      <td>Charlie</td>\n",
       "      <td>Finance</td>\n",
       "      <td>90000</td>\n",
       "      <td>175000</td>\n",
       "      <td>51.428571</td>\n",
       "    </tr>\n",
       "    <tr>\n",
       "      <th>3</th>\n",
       "      <td>David</td>\n",
       "      <td>IT</td>\n",
       "      <td>80000</td>\n",
       "      <td>150000</td>\n",
       "      <td>53.333333</td>\n",
       "    </tr>\n",
       "    <tr>\n",
       "      <th>4</th>\n",
       "      <td>Eve</td>\n",
       "      <td>Finance</td>\n",
       "      <td>85000</td>\n",
       "      <td>175000</td>\n",
       "      <td>48.571429</td>\n",
       "    </tr>\n",
       "  </tbody>\n",
       "</table>\n",
       "</div>"
      ],
      "text/plain": [
       "  Employee Department  Salary  Dept_Total_Salary  Salary_Percentage\n",
       "0    Alice         HR   50000              50000         100.000000\n",
       "1      Bob         IT   70000             150000          46.666667\n",
       "2  Charlie    Finance   90000             175000          51.428571\n",
       "3    David         IT   80000             150000          53.333333\n",
       "4      Eve    Finance   85000             175000          48.571429"
      ]
     },
     "execution_count": 139,
     "metadata": {},
     "output_type": "execute_result"
    }
   ],
   "source": [
    "df"
   ]
  },
  {
   "cell_type": "code",
   "execution_count": 141,
   "id": "26a61f06-06ab-47b3-8527-d0eecba13a02",
   "metadata": {},
   "outputs": [],
   "source": [
    "# Sample data\n",
    "df = pd.DataFrame({\n",
    "    'Employee': ['Alice', 'Bob', 'Charlie', 'David'],\n",
    "    'Manager': ['None', 'Alice', 'Alice', 'Bob'],\n",
    "    'Department': ['HR', 'IT', 'Finance', 'IT'],\n",
    "    'Salary': [50000, 70000, 90000, 40000]\n",
    "})\n",
    "\n",
    "# Perform a self join to get manager details for each employee\n",
    "df_self_join = pd.merge(df, df, left_on='Manager', right_on='Employee', suffixes=('', '_Manager'))\n"
   ]
  },
  {
   "cell_type": "code",
   "execution_count": 143,
   "id": "c2ff3955-f083-4f0e-81b4-da7aba36174f",
   "metadata": {},
   "outputs": [
    {
     "name": "stdout",
     "output_type": "stream",
     "text": [
      "  Employee Department  Salary Manager Department_Manager  Salary_Manager\n",
      "0      Bob         IT   70000   Alice                 HR           50000\n",
      "1  Charlie    Finance   90000   Alice                 HR           50000\n",
      "2    David         IT   40000     Bob                 IT           70000\n"
     ]
    }
   ],
   "source": [
    "print(df_self_join[['Employee', 'Department', 'Salary', 'Manager', 'Department_Manager', 'Salary_Manager']])"
   ]
  },
  {
   "cell_type": "code",
   "execution_count": 145,
   "id": "8e3548cf-aca2-4519-af22-2d4478a48f57",
   "metadata": {},
   "outputs": [],
   "source": [
    "# Sample data\n",
    "df1 = pd.DataFrame({'Employee': ['Alice', 'Bob'], 'Department': ['HR', 'IT'], 'Salary': [50000, 70000]})\n",
    "df2 = pd.DataFrame({'Employee': ['Charlie', 'Alice'], 'Department': ['Finance', 'HR'], 'Salary': [90000, 50000]})\n",
    "\n"
   ]
  },
  {
   "cell_type": "code",
   "execution_count": 147,
   "id": "05962813-a60a-4b23-8760-89cbc5974314",
   "metadata": {},
   "outputs": [
    {
     "name": "stdout",
     "output_type": "stream",
     "text": [
      "Union All:\n",
      "   Employee Department  Salary\n",
      "0    Alice         HR   50000\n",
      "1      Bob         IT   70000\n",
      "2  Charlie    Finance   90000\n",
      "3    Alice         HR   50000\n"
     ]
    }
   ],
   "source": [
    "# Union all (SQL UNION ALL equivalent)\n",
    "union_all_df = pd.concat([df1, df2], ignore_index=True)\n",
    "print(\"Union All:\\n\", union_all_df)\n"
   ]
  },
  {
   "cell_type": "code",
   "execution_count": 149,
   "id": "15d7fdee-1a96-4833-ba18-d705324faaaf",
   "metadata": {},
   "outputs": [
    {
     "name": "stdout",
     "output_type": "stream",
     "text": [
      "Union (No Duplicates):\n",
      "   Employee Department  Salary\n",
      "0    Alice         HR   50000\n",
      "1      Bob         IT   70000\n",
      "2  Charlie    Finance   90000\n"
     ]
    }
   ],
   "source": [
    "# Union (SQL UNION equivalent, removes duplicates)\n",
    "union_df = pd.concat([df1, df2], ignore_index=True).drop_duplicates()\n",
    "print(\"Union (No Duplicates):\\n\", union_df)"
   ]
  },
  {
   "cell_type": "code",
   "execution_count": null,
   "id": "d0f1b7a1-81d8-47ac-8040-33bf9e08c25f",
   "metadata": {},
   "outputs": [],
   "source": []
  }
 ],
 "metadata": {
  "kernelspec": {
   "display_name": "Python 3 (ipykernel)",
   "language": "python",
   "name": "python3"
  },
  "language_info": {
   "codemirror_mode": {
    "name": "ipython",
    "version": 3
   },
   "file_extension": ".py",
   "mimetype": "text/x-python",
   "name": "python",
   "nbconvert_exporter": "python",
   "pygments_lexer": "ipython3",
   "version": "3.12.4"
  }
 },
 "nbformat": 4,
 "nbformat_minor": 5
}
